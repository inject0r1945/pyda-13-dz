{
 "cells": [
  {
   "cell_type": "markdown",
   "metadata": {},
   "source": [
    "#### 1. Вам даны результаты проверки двух препаратов. Требуется оценить, есть ли различие в эффекте у этих пациентов.\n",
    "\n",
    "A - результаты для выборки людей получающих препарат А.\n",
    "\n",
    "B - результаты для другой выборки людей, получающих препарат B.\n",
    "\n",
    "Выборки неазвисимы. Представим, что данные в выборках - количество койко-дней в больнице до выздоровления. В этом случае нам необходимо выполнять односторонние тесты, так как интересует только один хвост плотности распределения значений со стороны уменьшения (слева).\n",
    "\n",
    "Будем использовать нормальное распределение данных в выборках и критерий Стьюдента для независимых выборок."
   ]
  },
  {
   "cell_type": "code",
   "execution_count": 1,
   "metadata": {},
   "outputs": [],
   "source": [
    "import scipy.stats\n",
    "import numpy as np\n",
    "import pandas as pd\n",
    "import matplotlib.pyplot as plt"
   ]
  },
  {
   "cell_type": "code",
   "execution_count": 2,
   "metadata": {},
   "outputs": [
    {
     "name": "stdout",
     "output_type": "stream",
     "text": [
      "Эффективность препаратов одинакова на уровне значимости 5.0%\n"
     ]
    }
   ],
   "source": [
    "np.random.seed(11)\n",
    "A=scipy.stats.norm.rvs(scale=30,loc=11,size=100, random_state=777)\n",
    "B=scipy.stats.norm.rvs(scale=54,loc=11,size=100, random_state=777)\n",
    "alpha = 0.05\n",
    "\n",
    "stat, p = scipy.stats.ttest_ind(A, B, equal_var=False)\n",
    "if p/2 < alpha:\n",
    "    print(f'Эффективность препаратов отличается на уровне значимости {alpha :.1%}')\n",
    "else:\n",
    "    print(f'Эффективность препаратов одинакова на уровне значимости {alpha :.1%}')"
   ]
  },
  {
   "cell_type": "markdown",
   "metadata": {},
   "source": [
    "#### 2. Вам даны результаты проверки двух препаратов. Требуется оценить, есть ли различие в эффекте у этих пациентов.\n",
    "\n",
    "А - Не принимающие препарат люди\n",
    "\n",
    "B - Люди из группы А, которым дали препарат после проведения исследований без препарата\n",
    "\n",
    "Выборка зависимая. Если наши данные имеют нормальное распределение и количественный тип, то можно использовать параметрический критерий Стьюдента для зависимых выборок. Также для зависимых выборок можно использовать непараметрический критерий Вилкоксона, для него распределение данных не имеет значения.\n",
    "\n",
    "Представим, что данные в выборках - количество койко-дней в больнице до выздоровления. В этом случае нам необходимо выполнять односторонние тесты, так как интересует только один хвост плотности распределения значений со стороны уменьшения (слева).\n",
    "\n",
    "H0 - Эффекта от препарата нет  \n",
    "H1 - Эффект от препарата присутствует"
   ]
  },
  {
   "cell_type": "code",
   "execution_count": 3,
   "metadata": {},
   "outputs": [
    {
     "name": "stdout",
     "output_type": "stream",
     "text": [
      "Эффекта от препарата нет на уровне значимости 5.0%\n"
     ]
    }
   ],
   "source": [
    "np.random.seed(11)\n",
    "A=scipy.stats.norm.rvs(scale=30,loc=11,size=100, random_state=777)\n",
    "B=scipy.stats.norm.rvs(scale=54,loc=11,size=100, random_state=777)\n",
    "alpha = 0.05\n",
    "\n",
    "# Параметрический критерий Стьюдента для зависимыз выборок\n",
    "stat, p = scipy.stats.ttest_rel(A, B)\n",
    "if p/2 < alpha:\n",
    "    print(f'Эффект от препарата присутствует на уровне значимости {alpha :.1%}')\n",
    "else:\n",
    "    print(f'Эффекта от препарата нет на уровне значимости {alpha :.1%}')"
   ]
  },
  {
   "cell_type": "code",
   "execution_count": 4,
   "metadata": {},
   "outputs": [
    {
     "name": "stdout",
     "output_type": "stream",
     "text": [
      "Эффекта от препарата нет на уровне значимости 5.0%\n"
     ]
    }
   ],
   "source": [
    "# Непараметрический критерий Вилкоксона для зависимыз выборок\n",
    "stat, p = scipy.stats.wilcoxon(A, B, alternative='less')\n",
    "\n",
    "if p < alpha:\n",
    "    print(f'Эффект от препарата присутствует на уровне значимости {alpha :.1%}')\n",
    "else:\n",
    "    print(f'Эффекта от препарата нет на уровне значимости {alpha :.1%}')"
   ]
  },
  {
   "cell_type": "markdown",
   "metadata": {},
   "source": [
    "#### 3. Допустим вы решили устроить дачный эксперимент. Берем и поливаем одни огурцы водой, другие огурцы водой с удобнением, третью группу огурцов будем поливать минералкой. Используя дисперсионный анализ, сделайте выводы о распредлениях результатов. Если ли эффект от удобрения по сравнению с минералкой? \n",
    "\n",
    "\n",
    "H0 - Эффекты от разного типа поливки не влияют на огурцы  \n",
    "H1 - Эффекты от разного типа поливки оказывают сильное влияние на огурцы\n",
    "\n",
    "Тест двусторонний, выборки независимые. Проверим гипотезы через дисперсионный анализ."
   ]
  },
  {
   "cell_type": "code",
   "execution_count": 5,
   "metadata": {},
   "outputs": [
    {
     "name": "stdout",
     "output_type": "stream",
     "text": [
      "Эффекты от разного типа поливки оказывают сильное влияние на огурцы на уровне значимости 5.0%\n"
     ]
    }
   ],
   "source": [
    "water = scipy.stats.norm.rvs(loc=50, scale=20, size=30)\n",
    "nutri = scipy.stats.norm.rvs(loc=80, scale=20, size=30)\n",
    "mineral = scipy.stats.norm.rvs(loc=55, scale=20, size=30)\n",
    "\n",
    "alpha = 0.05\n",
    "\n",
    "stats, p = scipy.stats.f_oneway(water, nutri, mineral)\n",
    "if p < alpha:\n",
    "    print(f'Эффекты от разного типа поливки оказывают сильное влияние на огурцы на уровне значимости {alpha :.1%}')   \n",
    "else:\n",
    "    print(f'Эффекты от разного типа поливки не влияют на огурцы на уровне значимости {alpha :.1%}')"
   ]
  },
  {
   "cell_type": "markdown",
   "metadata": {},
   "source": [
    "Как видим по дисперсионному анализу разные типы поливки огурцов действительно влияют на их параметры. Чтобы установить влияние эффекта от удобрения по сравнению с минералкой можно првоести непараметрический тест U-критерия Манна-Уитни.\n",
    "\n",
    "У критерия есть следующие требования:\n",
    "- в выборках должны быть все числа разные или число повторений должно быть невелико\n",
    "- в каждой из выборок должно быть не менее 3 значений. Если в одной выборке 2 значения, то во второй должно быть не менее 5.\n",
    "\n",
    "H0 - Разница между поливкой огурцов минералкой и удобрениями отсутствует  \n",
    "H1 - Разница между поливкой огурцов минералкой и удобрениями присутствует"
   ]
  },
  {
   "cell_type": "code",
   "execution_count": 6,
   "metadata": {},
   "outputs": [
    {
     "name": "stdout",
     "output_type": "stream",
     "text": [
      "Разница между поливкой огурцов минералкой и удобрениями присутствует на уровне значимости 5.0%\n"
     ]
    }
   ],
   "source": [
    "stats, p = scipy.stats.mannwhitneyu(nutri, mineral)\n",
    "if p < alpha:\n",
    "    print(f'Разница между поливкой огурцов минералкой и удобрениями присутствует на уровне значимости {alpha :.1%}')   \n",
    "else:\n",
    "    print(f'Разница между поливкой огурцов минералкой и удобрениями отсутствует на уровне значимости {alpha :.1%}')"
   ]
  },
  {
   "cell_type": "markdown",
   "metadata": {},
   "source": [
    "Наша статистика имеет нормальное распределение с количественными данными. Поэтому можем применить параметрический критерий Стьюдента для независимых выборок."
   ]
  },
  {
   "cell_type": "code",
   "execution_count": 7,
   "metadata": {},
   "outputs": [
    {
     "name": "stdout",
     "output_type": "stream",
     "text": [
      "Разница между поливкой огурцов минералкой и удобрениями присутствует на уровне значимости 5.0%\n"
     ]
    }
   ],
   "source": [
    "stats, p = scipy.stats.ttest_ind(nutri, mineral)\n",
    "if p < alpha:\n",
    "    print(f'Разница между поливкой огурцов минералкой и удобрениями присутствует на уровне значимости {alpha :.1%}')   \n",
    "else:\n",
    "    print(f'Разница между поливкой огурцов минералкой и удобрениями отсутствует на уровне значимости {alpha :.1%}')"
   ]
  },
  {
   "cell_type": "markdown",
   "metadata": {},
   "source": [
    "Чтобы понять какой вид поливки вносит более высокий вклад в размер огурцов, сравним средние значения"
   ]
  },
  {
   "cell_type": "code",
   "execution_count": 8,
   "metadata": {},
   "outputs": [
    {
     "name": "stdout",
     "output_type": "stream",
     "text": [
      "Поливка огурцов удобрениями оказывает более положительное влияние, чем поливка минералкой на уровне значимости 5.0%\n"
     ]
    }
   ],
   "source": [
    "if nutri.mean() > mineral.mean():\n",
    "    print(f'Поливка огурцов удобрениями оказывает более положительное влияние, чем поливка минералкой \\\n",
    "на уровне значимости {alpha :.1%}')\n",
    "else:\n",
    "    print(f'Поливка огурцов минералкой оказывает более положительное влияние, чем поливка удобрениями \\\n",
    "на уровне значимости {alpha :.1%}')"
   ]
  },
  {
   "cell_type": "markdown",
   "metadata": {},
   "source": [
    "### Cookie Cats"
   ]
  },
  {
   "cell_type": "code",
   "execution_count": 9,
   "metadata": {},
   "outputs": [
    {
     "data": {
      "text/html": [
       "<div>\n",
       "<style scoped>\n",
       "    .dataframe tbody tr th:only-of-type {\n",
       "        vertical-align: middle;\n",
       "    }\n",
       "\n",
       "    .dataframe tbody tr th {\n",
       "        vertical-align: top;\n",
       "    }\n",
       "\n",
       "    .dataframe thead th {\n",
       "        text-align: right;\n",
       "    }\n",
       "</style>\n",
       "<table border=\"1\" class=\"dataframe\">\n",
       "  <thead>\n",
       "    <tr style=\"text-align: right;\">\n",
       "      <th></th>\n",
       "      <th>userid</th>\n",
       "      <th>version</th>\n",
       "      <th>sum_gamerounds</th>\n",
       "      <th>retention_1</th>\n",
       "      <th>retention_7</th>\n",
       "    </tr>\n",
       "  </thead>\n",
       "  <tbody>\n",
       "    <tr>\n",
       "      <th>0</th>\n",
       "      <td>116</td>\n",
       "      <td>gate_30</td>\n",
       "      <td>3</td>\n",
       "      <td>0</td>\n",
       "      <td>0</td>\n",
       "    </tr>\n",
       "    <tr>\n",
       "      <th>1</th>\n",
       "      <td>337</td>\n",
       "      <td>gate_30</td>\n",
       "      <td>38</td>\n",
       "      <td>1</td>\n",
       "      <td>0</td>\n",
       "    </tr>\n",
       "    <tr>\n",
       "      <th>2</th>\n",
       "      <td>377</td>\n",
       "      <td>gate_40</td>\n",
       "      <td>165</td>\n",
       "      <td>1</td>\n",
       "      <td>0</td>\n",
       "    </tr>\n",
       "    <tr>\n",
       "      <th>3</th>\n",
       "      <td>483</td>\n",
       "      <td>gate_40</td>\n",
       "      <td>1</td>\n",
       "      <td>0</td>\n",
       "      <td>0</td>\n",
       "    </tr>\n",
       "    <tr>\n",
       "      <th>4</th>\n",
       "      <td>488</td>\n",
       "      <td>gate_40</td>\n",
       "      <td>179</td>\n",
       "      <td>1</td>\n",
       "      <td>1</td>\n",
       "    </tr>\n",
       "  </tbody>\n",
       "</table>\n",
       "</div>"
      ],
      "text/plain": [
       "   userid  version  sum_gamerounds  retention_1  retention_7\n",
       "0     116  gate_30               3            0            0\n",
       "1     337  gate_30              38            1            0\n",
       "2     377  gate_40             165            1            0\n",
       "3     483  gate_40               1            0            0\n",
       "4     488  gate_40             179            1            1"
      ]
     },
     "execution_count": 9,
     "metadata": {},
     "output_type": "execute_result"
    }
   ],
   "source": [
    "data = pd.read_csv('cookie_cats.csv')\n",
    "data.retention_1 = data.retention_1.apply(lambda x: int(x))\n",
    "data.retention_7 = data.retention_7.apply(lambda x: int(x))\n",
    "data.head()"
   ]
  },
  {
   "cell_type": "markdown",
   "metadata": {},
   "source": [
    "Данные получены от 90 189 игроков, которые установили игру во время проведения AB-теста. Переменные:\n",
    "\n",
    "userid - уникальный номер, идентифицирующий каждого игрока.\n",
    "\n",
    "версия - был ли игрок помещен в контрольную группу (gate_30 - ворота на уровне 30) или в тестовую группу (gate_40 - ворота на уровне 40).\n",
    "\n",
    "sum_gamerounds - количество игровых раундов, сыгранных игроком в течение первой недели после установки\n",
    "\n",
    "retention_1 - проигрыватель вернулся и поиграл через 1 день после установки?\n",
    "\n",
    "retention_7 - проигрыватель вернулся и играл через 7 дней после установки?\n",
    "\n",
    "Когда игрок устанавливал игру, ему случайным образом назначали gate_30 или gate_40.\n",
    "\n",
    "Разделим наши датафреймы на 2 части:\n",
    "- df_gate_30 -- датафрейм со статистикой ворот на 30 уровне\n",
    "- df_gate_40 -- датафрейм со статистикой ворот на 40 уровне"
   ]
  },
  {
   "cell_type": "code",
   "execution_count": 10,
   "metadata": {},
   "outputs": [],
   "source": [
    "df_gate_30 = data.loc[data.version == 'gate_30', ['userid', 'sum_gamerounds', 'retention_1', 'retention_7']]\n",
    "df_gate_40 = data.loc[data.version == 'gate_40', ['userid', 'sum_gamerounds', 'retention_1', 'retention_7']]"
   ]
  },
  {
   "cell_type": "markdown",
   "metadata": {},
   "source": [
    "Посмотрим на базовые статистические метрики."
   ]
  },
  {
   "cell_type": "code",
   "execution_count": 11,
   "metadata": {},
   "outputs": [
    {
     "data": {
      "text/html": [
       "<div>\n",
       "<style scoped>\n",
       "    .dataframe tbody tr th:only-of-type {\n",
       "        vertical-align: middle;\n",
       "    }\n",
       "\n",
       "    .dataframe tbody tr th {\n",
       "        vertical-align: top;\n",
       "    }\n",
       "\n",
       "    .dataframe thead th {\n",
       "        text-align: right;\n",
       "    }\n",
       "</style>\n",
       "<table border=\"1\" class=\"dataframe\">\n",
       "  <thead>\n",
       "    <tr style=\"text-align: right;\">\n",
       "      <th></th>\n",
       "      <th>userid</th>\n",
       "      <th>sum_gamerounds</th>\n",
       "      <th>retention_1</th>\n",
       "      <th>retention_7</th>\n",
       "    </tr>\n",
       "  </thead>\n",
       "  <tbody>\n",
       "    <tr>\n",
       "      <th>count</th>\n",
       "      <td>4.470000e+04</td>\n",
       "      <td>44700.000000</td>\n",
       "      <td>44700.000000</td>\n",
       "      <td>44700.000000</td>\n",
       "    </tr>\n",
       "    <tr>\n",
       "      <th>mean</th>\n",
       "      <td>4.987564e+06</td>\n",
       "      <td>52.456264</td>\n",
       "      <td>0.448188</td>\n",
       "      <td>0.190201</td>\n",
       "    </tr>\n",
       "    <tr>\n",
       "      <th>std</th>\n",
       "      <td>2.881026e+06</td>\n",
       "      <td>256.716423</td>\n",
       "      <td>0.497314</td>\n",
       "      <td>0.392464</td>\n",
       "    </tr>\n",
       "    <tr>\n",
       "      <th>min</th>\n",
       "      <td>1.160000e+02</td>\n",
       "      <td>0.000000</td>\n",
       "      <td>0.000000</td>\n",
       "      <td>0.000000</td>\n",
       "    </tr>\n",
       "    <tr>\n",
       "      <th>25%</th>\n",
       "      <td>2.505469e+06</td>\n",
       "      <td>5.000000</td>\n",
       "      <td>0.000000</td>\n",
       "      <td>0.000000</td>\n",
       "    </tr>\n",
       "    <tr>\n",
       "      <th>50%</th>\n",
       "      <td>4.983631e+06</td>\n",
       "      <td>17.000000</td>\n",
       "      <td>0.000000</td>\n",
       "      <td>0.000000</td>\n",
       "    </tr>\n",
       "    <tr>\n",
       "      <th>75%</th>\n",
       "      <td>7.481497e+06</td>\n",
       "      <td>50.000000</td>\n",
       "      <td>1.000000</td>\n",
       "      <td>0.000000</td>\n",
       "    </tr>\n",
       "    <tr>\n",
       "      <th>max</th>\n",
       "      <td>9.999710e+06</td>\n",
       "      <td>49854.000000</td>\n",
       "      <td>1.000000</td>\n",
       "      <td>1.000000</td>\n",
       "    </tr>\n",
       "  </tbody>\n",
       "</table>\n",
       "</div>"
      ],
      "text/plain": [
       "             userid  sum_gamerounds   retention_1   retention_7\n",
       "count  4.470000e+04    44700.000000  44700.000000  44700.000000\n",
       "mean   4.987564e+06       52.456264      0.448188      0.190201\n",
       "std    2.881026e+06      256.716423      0.497314      0.392464\n",
       "min    1.160000e+02        0.000000      0.000000      0.000000\n",
       "25%    2.505469e+06        5.000000      0.000000      0.000000\n",
       "50%    4.983631e+06       17.000000      0.000000      0.000000\n",
       "75%    7.481497e+06       50.000000      1.000000      0.000000\n",
       "max    9.999710e+06    49854.000000      1.000000      1.000000"
      ]
     },
     "execution_count": 11,
     "metadata": {},
     "output_type": "execute_result"
    }
   ],
   "source": [
    "df_gate_30.describe()"
   ]
  },
  {
   "cell_type": "code",
   "execution_count": 12,
   "metadata": {},
   "outputs": [
    {
     "data": {
      "text/html": [
       "<div>\n",
       "<style scoped>\n",
       "    .dataframe tbody tr th:only-of-type {\n",
       "        vertical-align: middle;\n",
       "    }\n",
       "\n",
       "    .dataframe tbody tr th {\n",
       "        vertical-align: top;\n",
       "    }\n",
       "\n",
       "    .dataframe thead th {\n",
       "        text-align: right;\n",
       "    }\n",
       "</style>\n",
       "<table border=\"1\" class=\"dataframe\">\n",
       "  <thead>\n",
       "    <tr style=\"text-align: right;\">\n",
       "      <th></th>\n",
       "      <th>userid</th>\n",
       "      <th>sum_gamerounds</th>\n",
       "      <th>retention_1</th>\n",
       "      <th>retention_7</th>\n",
       "    </tr>\n",
       "  </thead>\n",
       "  <tbody>\n",
       "    <tr>\n",
       "      <th>count</th>\n",
       "      <td>4.548900e+04</td>\n",
       "      <td>45489.000000</td>\n",
       "      <td>45489.000000</td>\n",
       "      <td>45489.000000</td>\n",
       "    </tr>\n",
       "    <tr>\n",
       "      <th>mean</th>\n",
       "      <td>5.009073e+06</td>\n",
       "      <td>51.298776</td>\n",
       "      <td>0.442283</td>\n",
       "      <td>0.182000</td>\n",
       "    </tr>\n",
       "    <tr>\n",
       "      <th>std</th>\n",
       "      <td>2.885496e+06</td>\n",
       "      <td>103.294416</td>\n",
       "      <td>0.496663</td>\n",
       "      <td>0.385849</td>\n",
       "    </tr>\n",
       "    <tr>\n",
       "      <th>min</th>\n",
       "      <td>3.770000e+02</td>\n",
       "      <td>0.000000</td>\n",
       "      <td>0.000000</td>\n",
       "      <td>0.000000</td>\n",
       "    </tr>\n",
       "    <tr>\n",
       "      <th>25%</th>\n",
       "      <td>2.517171e+06</td>\n",
       "      <td>5.000000</td>\n",
       "      <td>0.000000</td>\n",
       "      <td>0.000000</td>\n",
       "    </tr>\n",
       "    <tr>\n",
       "      <th>50%</th>\n",
       "      <td>5.007329e+06</td>\n",
       "      <td>16.000000</td>\n",
       "      <td>0.000000</td>\n",
       "      <td>0.000000</td>\n",
       "    </tr>\n",
       "    <tr>\n",
       "      <th>75%</th>\n",
       "      <td>7.510762e+06</td>\n",
       "      <td>52.000000</td>\n",
       "      <td>1.000000</td>\n",
       "      <td>0.000000</td>\n",
       "    </tr>\n",
       "    <tr>\n",
       "      <th>max</th>\n",
       "      <td>9.999861e+06</td>\n",
       "      <td>2640.000000</td>\n",
       "      <td>1.000000</td>\n",
       "      <td>1.000000</td>\n",
       "    </tr>\n",
       "  </tbody>\n",
       "</table>\n",
       "</div>"
      ],
      "text/plain": [
       "             userid  sum_gamerounds   retention_1   retention_7\n",
       "count  4.548900e+04    45489.000000  45489.000000  45489.000000\n",
       "mean   5.009073e+06       51.298776      0.442283      0.182000\n",
       "std    2.885496e+06      103.294416      0.496663      0.385849\n",
       "min    3.770000e+02        0.000000      0.000000      0.000000\n",
       "25%    2.517171e+06        5.000000      0.000000      0.000000\n",
       "50%    5.007329e+06       16.000000      0.000000      0.000000\n",
       "75%    7.510762e+06       52.000000      1.000000      0.000000\n",
       "max    9.999861e+06     2640.000000      1.000000      1.000000"
      ]
     },
     "execution_count": 12,
     "metadata": {},
     "output_type": "execute_result"
    }
   ],
   "source": [
    "df_gate_40.describe()"
   ]
  },
  {
   "cell_type": "markdown",
   "metadata": {},
   "source": [
    "Выводы из анализа базовых статистических метрик:\n",
    "\n",
    "- В обоих выборках значения квартилей практически одинаковы, можно предположить, что глобального влияние расположения ворот на 30 или 40 уровнях нет, можно говорить о небольшом влиянии факторов.\n",
    "- 75% людей на первой неделе наигрывают не более 50-52 раундов.\n",
    "- в обоих выборках только около 25% людей возвращаются в игру через день после установки, а через 7 дней еще меньше.\n",
    "- по средним значениям retention_1 и retention_7 видно, что в случае ворот на 30 уровне люди возвращаются в игру через 1 и 7 дней немножко чаще. Выборсы в значениях отсутствуют, данные у нас порядковые с двумя состояниями, поэтому среднее в данных выборках корректна.\n",
    "- значения медиан сильно расходятся со средними значениями, значит есть выбросы, которые сильно влияют на среднее. Поэтому критерии, основанные на анализе среднего будут не точно работать. Как вариант - разбивать выборку на диапазоны по количеству сыгранных раундов. Например от 0 до 100, от 100 до 1000, от 1000 до 3000.\n",
    "\n",
    "Также наблюдается слишком большая разница между максимальными значениями sum_gamerounds аж более чем на 45 000. Есть предположение, что это выбросы. Проверим какое количество пользователей в выборке df_gate_30 наиграли более 2640 раундов за неделю."
   ]
  },
  {
   "cell_type": "code",
   "execution_count": 13,
   "metadata": {},
   "outputs": [
    {
     "data": {
      "text/html": [
       "<div>\n",
       "<style scoped>\n",
       "    .dataframe tbody tr th:only-of-type {\n",
       "        vertical-align: middle;\n",
       "    }\n",
       "\n",
       "    .dataframe tbody tr th {\n",
       "        vertical-align: top;\n",
       "    }\n",
       "\n",
       "    .dataframe thead th {\n",
       "        text-align: right;\n",
       "    }\n",
       "</style>\n",
       "<table border=\"1\" class=\"dataframe\">\n",
       "  <thead>\n",
       "    <tr style=\"text-align: right;\">\n",
       "      <th></th>\n",
       "      <th>userid</th>\n",
       "      <th>sum_gamerounds</th>\n",
       "      <th>retention_1</th>\n",
       "      <th>retention_7</th>\n",
       "    </tr>\n",
       "  </thead>\n",
       "  <tbody>\n",
       "    <tr>\n",
       "      <th>7912</th>\n",
       "      <td>871500</td>\n",
       "      <td>2961</td>\n",
       "      <td>1</td>\n",
       "      <td>1</td>\n",
       "    </tr>\n",
       "    <tr>\n",
       "      <th>57702</th>\n",
       "      <td>6390605</td>\n",
       "      <td>49854</td>\n",
       "      <td>0</td>\n",
       "      <td>1</td>\n",
       "    </tr>\n",
       "  </tbody>\n",
       "</table>\n",
       "</div>"
      ],
      "text/plain": [
       "        userid  sum_gamerounds  retention_1  retention_7\n",
       "7912    871500            2961            1            1\n",
       "57702  6390605           49854            0            1"
      ]
     },
     "execution_count": 13,
     "metadata": {},
     "output_type": "execute_result"
    }
   ],
   "source": [
    "df_gate_30[df_gate_30.sum_gamerounds > 2640]"
   ]
  },
  {
   "cell_type": "markdown",
   "metadata": {},
   "source": [
    "Как видно такое аномальное количество уровней дал только один пользователь. Есть подозрение, что это не типичное поведение пользователя, вероятно в игру играл какой-то скрипт. Поэтому это значение можно удалить из выборки или заполнить средним значением."
   ]
  },
  {
   "cell_type": "code",
   "execution_count": 14,
   "metadata": {},
   "outputs": [
    {
     "data": {
      "text/html": [
       "<div>\n",
       "<style scoped>\n",
       "    .dataframe tbody tr th:only-of-type {\n",
       "        vertical-align: middle;\n",
       "    }\n",
       "\n",
       "    .dataframe tbody tr th {\n",
       "        vertical-align: top;\n",
       "    }\n",
       "\n",
       "    .dataframe thead th {\n",
       "        text-align: right;\n",
       "    }\n",
       "</style>\n",
       "<table border=\"1\" class=\"dataframe\">\n",
       "  <thead>\n",
       "    <tr style=\"text-align: right;\">\n",
       "      <th></th>\n",
       "      <th>userid</th>\n",
       "      <th>sum_gamerounds</th>\n",
       "      <th>retention_1</th>\n",
       "      <th>retention_7</th>\n",
       "    </tr>\n",
       "  </thead>\n",
       "  <tbody>\n",
       "    <tr>\n",
       "      <th>count</th>\n",
       "      <td>4.470000e+04</td>\n",
       "      <td>44700.000000</td>\n",
       "      <td>44700.000000</td>\n",
       "      <td>44700.000000</td>\n",
       "    </tr>\n",
       "    <tr>\n",
       "      <th>mean</th>\n",
       "      <td>4.987564e+06</td>\n",
       "      <td>51.342135</td>\n",
       "      <td>0.448188</td>\n",
       "      <td>0.190201</td>\n",
       "    </tr>\n",
       "    <tr>\n",
       "      <th>std</th>\n",
       "      <td>2.881026e+06</td>\n",
       "      <td>102.056456</td>\n",
       "      <td>0.497314</td>\n",
       "      <td>0.392464</td>\n",
       "    </tr>\n",
       "    <tr>\n",
       "      <th>min</th>\n",
       "      <td>1.160000e+02</td>\n",
       "      <td>0.000000</td>\n",
       "      <td>0.000000</td>\n",
       "      <td>0.000000</td>\n",
       "    </tr>\n",
       "    <tr>\n",
       "      <th>25%</th>\n",
       "      <td>2.505469e+06</td>\n",
       "      <td>5.000000</td>\n",
       "      <td>0.000000</td>\n",
       "      <td>0.000000</td>\n",
       "    </tr>\n",
       "    <tr>\n",
       "      <th>50%</th>\n",
       "      <td>4.983631e+06</td>\n",
       "      <td>17.000000</td>\n",
       "      <td>0.000000</td>\n",
       "      <td>0.000000</td>\n",
       "    </tr>\n",
       "    <tr>\n",
       "      <th>75%</th>\n",
       "      <td>7.481497e+06</td>\n",
       "      <td>50.000000</td>\n",
       "      <td>1.000000</td>\n",
       "      <td>0.000000</td>\n",
       "    </tr>\n",
       "    <tr>\n",
       "      <th>max</th>\n",
       "      <td>9.999710e+06</td>\n",
       "      <td>2961.000000</td>\n",
       "      <td>1.000000</td>\n",
       "      <td>1.000000</td>\n",
       "    </tr>\n",
       "  </tbody>\n",
       "</table>\n",
       "</div>"
      ],
      "text/plain": [
       "             userid  sum_gamerounds   retention_1   retention_7\n",
       "count  4.470000e+04    44700.000000  44700.000000  44700.000000\n",
       "mean   4.987564e+06       51.342135      0.448188      0.190201\n",
       "std    2.881026e+06      102.056456      0.497314      0.392464\n",
       "min    1.160000e+02        0.000000      0.000000      0.000000\n",
       "25%    2.505469e+06        5.000000      0.000000      0.000000\n",
       "50%    4.983631e+06       17.000000      0.000000      0.000000\n",
       "75%    7.481497e+06       50.000000      1.000000      0.000000\n",
       "max    9.999710e+06     2961.000000      1.000000      1.000000"
      ]
     },
     "execution_count": 14,
     "metadata": {},
     "output_type": "execute_result"
    }
   ],
   "source": [
    "df_gate_30.loc[df_gate_30.sum_gamerounds == 49854, 'sum_gamerounds'] = df_gate_30.sum_gamerounds.mean()\n",
    "df_gate_30.describe()"
   ]
  },
  {
   "cell_type": "markdown",
   "metadata": {},
   "source": [
    "Как видим у нас выровнялись значения дисперсии, теперь они практически равны, а ранее отличались более чем в 2 раза. При этом практически не имзенились другие основные метрики.\n",
    "\n",
    "Проверим нет ли пропусков в наших данных."
   ]
  },
  {
   "cell_type": "code",
   "execution_count": 15,
   "metadata": {},
   "outputs": [
    {
     "name": "stdout",
     "output_type": "stream",
     "text": [
      "<class 'pandas.core.frame.DataFrame'>\n",
      "Int64Index: 44700 entries, 0 to 90186\n",
      "Data columns (total 4 columns):\n",
      " #   Column          Non-Null Count  Dtype  \n",
      "---  ------          --------------  -----  \n",
      " 0   userid          44700 non-null  int64  \n",
      " 1   sum_gamerounds  44700 non-null  float64\n",
      " 2   retention_1     44700 non-null  int64  \n",
      " 3   retention_7     44700 non-null  int64  \n",
      "dtypes: float64(1), int64(3)\n",
      "memory usage: 1.7 MB\n",
      "<class 'pandas.core.frame.DataFrame'>\n",
      "Int64Index: 45489 entries, 2 to 90188\n",
      "Data columns (total 4 columns):\n",
      " #   Column          Non-Null Count  Dtype\n",
      "---  ------          --------------  -----\n",
      " 0   userid          45489 non-null  int64\n",
      " 1   sum_gamerounds  45489 non-null  int64\n",
      " 2   retention_1     45489 non-null  int64\n",
      " 3   retention_7     45489 non-null  int64\n",
      "dtypes: int64(4)\n",
      "memory usage: 1.7 MB\n"
     ]
    }
   ],
   "source": [
    "df_gate_30.info()\n",
    "df_gate_40.info()"
   ]
  },
  {
   "cell_type": "markdown",
   "metadata": {},
   "source": [
    "Как видим пропуски в наших данных отсутствуют, поэтому проблема с заполнением отсутствующих данных отсутствует.\n",
    "\n",
    "Посмотрим на плотности распределения наших значений в выборках."
   ]
  },
  {
   "cell_type": "code",
   "execution_count": 16,
   "metadata": {},
   "outputs": [
    {
     "data": {
      "image/png": "[encoded data removed]",
      "text/plain": [
       "<Figure size 432x288 with 1 Axes>"
      ]
     },
     "metadata": {
      "needs_background": "light"
     },
     "output_type": "display_data"
    },
    {
     "data": {
      "image/png": "[encoded data removed]",
      "text/plain": [
       "<Figure size 432x288 with 1 Axes>"
      ]
     },
     "metadata": {
      "needs_background": "light"
     },
     "output_type": "display_data"
    },
    {
     "data": {
      "image/png": "[encoded data removed]",
      "text/plain": [
       "<Figure size 432x288 with 1 Axes>"
      ]
     },
     "metadata": {
      "needs_background": "light"
     },
     "output_type": "display_data"
    },
    {
     "data": {
      "image/png": "[encoded data removed]",
      "text/plain": [
       "<Figure size 432x288 with 1 Axes>"
      ]
     },
     "metadata": {
      "needs_background": "light"
     },
     "output_type": "display_data"
    }
   ],
   "source": [
    "df_gate_30['sum_gamerounds'].plot(kind='hist')\n",
    "plt.title(\"Плотность распределения кол-ва сыгранных раундов в первую неделю для ворот на 30 уровне\")\n",
    "plt.ylabel(\"Кол-во пользователей\")\n",
    "plt.xlabel(\"Кол-во сыгранных раунов первой недели\")\n",
    "plt.show()\n",
    "\n",
    "df_gate_30.loc[df_gate_30.sum_gamerounds < df_gate_30.sum_gamerounds.quantile(0.997), 'sum_gamerounds'].plot(kind='hist')\n",
    "plt.title(\"Плотность распределения кол-ва сыгранных раундов в первую неделю для ворот на 40 уровне без выбросов\")\n",
    "plt.ylabel(\"Кол-во пользователей\")\n",
    "plt.xlabel(\"Кол-во сыгранных раунов первой недели\")\n",
    "plt.show()\n",
    "\n",
    "df_gate_40['sum_gamerounds'].plot(kind='hist')\n",
    "plt.title(\"Плотность распределения кол-ва сыгранных раундов в первую неделю для ворот на 40 уровне\")\n",
    "plt.xlabel(\"Кол-во сыгранных раунов первой недели\")\n",
    "plt.show()\n",
    "\n",
    "df_gate_40.loc[df_gate_40.sum_gamerounds < df_gate_40.sum_gamerounds.quantile(0.997), 'sum_gamerounds'].plot(kind='hist')\n",
    "plt.title(\"Плотность распределения кол-ва сыгранных раундов в первую неделю для ворот на 40 уровне без выбросов\")\n",
    "plt.xlabel(\"Кол-во сыгранных раунов первой недели\")\n",
    "plt.show()"
   ]
  },
  {
   "cell_type": "markdown",
   "metadata": {},
   "source": [
    "Как видно большая часть значений концентрируется на уровне от 0 до 100. Все остальные значения встречаются реже, как сказано было ранее, в боевой задаче имеет смысл значения больше 100 рассматривать отдельной группой.\n",
    "\n",
    "Посмотрим на распределение количества игроков относительно количества сыгранных раундов."
   ]
  },
  {
   "cell_type": "code",
   "execution_count": 17,
   "metadata": {},
   "outputs": [
    {
     "data": {
      "image/png": "[encoded data removed]",
      "text/plain": [
       "<Figure size 432x288 with 1 Axes>"
      ]
     },
     "metadata": {
      "needs_background": "light"
     },
     "output_type": "display_data"
    },
    {
     "data": {
      "image/png": "[encoded data removed]",
      "text/plain": [
       "<Figure size 432x288 with 1 Axes>"
      ]
     },
     "metadata": {
      "needs_background": "light"
     },
     "output_type": "display_data"
    }
   ],
   "source": [
    "# Подсчет количества игроков для каждого количества раундов\n",
    "df_plot_40 = df_gate_40.groupby('sum_gamerounds')['userid'].count()\n",
    "df_plot_40.hist(bins=50)\n",
    "plt.show()\n",
    "\n",
    "df_plot_30 = df_gate_30.groupby('sum_gamerounds')['userid'].count()\n",
    "df_plot_30.hist(bins=50)\n",
    "plt.show()"
   ]
  },
  {
   "cell_type": "markdown",
   "metadata": {},
   "source": [
    "Как видно по гистограмме большинство игроков играют не больше 50-70 раундов, это было понятно еще на этапе анализа квартилей, медиан и средних."
   ]
  },
  {
   "cell_type": "code",
   "execution_count": 18,
   "metadata": {},
   "outputs": [
    {
     "data": {
      "image/png": "[encoded data removed]",
      "text/plain": [
       "<Figure size 720x432 with 1 Axes>"
      ]
     },
     "metadata": {
      "needs_background": "light"
     },
     "output_type": "display_data"
    }
   ],
   "source": [
    "# Построим график распределения игроков, сыгравших от 0 до 100 игровых раундов в течение своей первой недели игры.\n",
    "%matplotlib inline\n",
    "\n",
    "df_plot_30[:100].plot(figsize=(10,6), c='r')\n",
    "plt.title(\"The number of players that played 0-100 game rounds during the first week\")\n",
    "plt.ylabel(\"Number of Players\")\n",
    "plt.xlabel('# Game rounds')\n",
    "\n",
    "df_plot_40[:100].plot(figsize=(10,6), c='g')\n",
    "plt.title(\"The number of players that played 0-100 game rounds during the first week\")\n",
    "plt.ylabel(\"Number of Players\")\n",
    "plt.xlabel('# Game rounds')\n",
    "plt.legend(['Пользователи группы ворот на 30 уровне', 'Пользователи группы ворот на 40 уровне'])\n",
    "plt.show()"
   ]
  },
  {
   "cell_type": "markdown",
   "metadata": {},
   "source": [
    "Как видно по графику отличия незначительны, но тем не менее есть. Требуется выяснить являются ли эти отличия дейсвтительно статистически значимыми.\n",
    "\n",
    "Ранее в анализе средних значений мы заметили, что пользователи из группы с воротами на 30 уровне возвращаются в игру через день и неделю немножко чаще, чем пользователи с воротами на 40 уровне.\n",
    "\n",
    "Попробуем проверить эту гипотезу с помощью бутстрапа порядковых значений retention_1 и retention_7. С помощью бутстрапа получится воссоздать распределение значений на основе средних."
   ]
  },
  {
   "cell_type": "code",
   "execution_count": 19,
   "metadata": {},
   "outputs": [
    {
     "data": {
      "text/plain": [
       "<matplotlib.axes._subplots.AxesSubplot at 0x2409b4aa7f0>"
      ]
     },
     "execution_count": 19,
     "metadata": {},
     "output_type": "execute_result"
    },
    {
     "data": {
      "image/png": "[encoded data removed]",
      "text/plain": [
       "<Figure size 432x288 with 1 Axes>"
      ]
     },
     "metadata": {
      "needs_background": "light"
     },
     "output_type": "display_data"
    },
    {
     "data": {
      "image/png": "[encoded data removed]",
      "text/plain": [
       "<Figure size 432x288 with 1 Axes>"
      ]
     },
     "metadata": {
      "needs_background": "light"
     },
     "output_type": "display_data"
    }
   ],
   "source": [
    "# Creating an list with bootstrapped means for each AB-group\n",
    "boot_1d = []\n",
    "for i in range(1000):\n",
    "    boot_mean = data.sample(frac = 1,replace = True).groupby('version')['retention_1'].mean()  #retention_1\n",
    "    boot_1d.append(boot_mean)\n",
    "    \n",
    "# Преобразование списка в DataFrame\n",
    "boot_1d = pd.DataFrame(boot_1d)\n",
    "    \n",
    "# A Kernel Density Estimate plot of the bootstrap distributions\n",
    "boot_1d.plot(kind='density')\n",
    "\n",
    "# Creating an list with bootstrapped means for each AB-group\n",
    "boot_1d = []\n",
    "for i in range(1000):\n",
    "    boot_mean = data.sample(frac = 1,replace = True).groupby('version')['retention_7'].mean()  #retention_1\n",
    "    boot_1d.append(boot_mean)\n",
    "    \n",
    "# Преобразование списка в DataFrame\n",
    "boot_1d = pd.DataFrame(boot_1d)\n",
    "    \n",
    "# A Kernel Density Estimate plot of the bootstrap distributions\n",
    "boot_1d.plot(kind='density')"
   ]
  },
  {
   "cell_type": "markdown",
   "metadata": {},
   "source": [
    "Как видно по построенным графикам средние значения для пользователей с воротами на 30 уровне смещены в правую часть, а это означает, что именно эти пользователи возвращаются в игру немного чаще, чем пользователи с воротами на 40 уровне.\n",
    "\n",
    "Теперь проверим гипотезы о влиянии ворот на разных уровнях на вовлеченность пользователей. Дисперсионный анализ мы не можем использовать, так как у нас даныне не имеют нормального распределения и даже не приближены к нему. Плюс \n",
    "\n",
    "H0 - Ворота на разных уровнях не влияют на количество пройденных уровней пользователями в первую неделю  \n",
    "H1 - Ворота на разных уровнях оказывают значимое влияние на количество пройденных уровней пользователями в первую неделю\n",
    "\n",
    "Так как у нас данные распределены не нормально и есть значительные выбросы, то для проверки этой гипотезы больше всего подходит U-критерий Манна-Уитни для независимых выборок. нас интересуют отклонения в обе стороны распределения, поэтому тест будет двусторонним."
   ]
  },
  {
   "cell_type": "code",
   "execution_count": 20,
   "metadata": {},
   "outputs": [
    {
     "name": "stdout",
     "output_type": "stream",
     "text": [
      "p-value: 0.025\n",
      "Ворота на разных уровнях оказывают значимое влияние на количество пройденных уровней пользователями в первую неделю на уровне значимости 5.00%\n",
      "Ворота на уровне 30 больше затягивают пользователей в процесс игры\n"
     ]
    }
   ],
   "source": [
    "stat, p = scipy.stats.mannwhitneyu(df_gate_30.sum_gamerounds, df_gate_40.sum_gamerounds)\n",
    "alpha = 0.05\n",
    "\n",
    "print('p-value:', round(p, 3))\n",
    "\n",
    "if p < alpha:\n",
    "    print(f'Ворота на разных уровнях оказывают значимое влияние на количество пройденных уровней пользователями \\\n",
    "в первую неделю на уровне значимости {alpha :.2%}')\n",
    "    if df_gate_30.sum_gamerounds.mean() > df_gate_40.sum_gamerounds.mean():\n",
    "        print(f'Ворота на уровне 30 больше затягивают пользователей в процесс игры')\n",
    "    else:\n",
    "        print(f'Ворота на уровне 40 больше затягивают пользователей в процесс игры')     \n",
    "else:\n",
    "    print(f'Ворота на разных уровнях не влияют на количество пройденных уровней пользователями в первую неделю \\\n",
    "на уровне значимости {alpha :.2%}')"
   ]
  },
  {
   "cell_type": "markdown",
   "metadata": {},
   "source": [
    "Так как в наших данных было много выбросов и абволютное большинство пользователей не наигрывают более 100 раундов в первую неделю, то во избежания ошибки в оценке наибольшего влияния сделаем пересчет."
   ]
  },
  {
   "cell_type": "code",
   "execution_count": 21,
   "metadata": {},
   "outputs": [
    {
     "name": "stdout",
     "output_type": "stream",
     "text": [
      "Ворота на уровне 30 больше затягивают пользователей в процесс игры\n"
     ]
    }
   ],
   "source": [
    "if (df_gate_30[df_gate_30.sum_gamerounds < 100].sum_gamerounds.mean() > \n",
    "    df_gate_40[df_gate_40.sum_gamerounds < 100].sum_gamerounds.mean()):\n",
    "    print(f'Ворота на уровне 30 больше затягивают пользователей в процесс игры')\n",
    "else:\n",
    "    print(f'Ворота на уровне 40 больше затягивают пользователей в процесс игры')    "
   ]
  },
  {
   "cell_type": "markdown",
   "metadata": {},
   "source": [
    "Как видим дейсвтительно ворота на 30 уровне оказывают большую вовлеченность пользователей в плане количества сыгранных ими раундов.\n",
    "\n",
    "Аналогично проверим параметры retention_1 и retention_2. Для них точно также больше всего подходит U-критерий Манна-Уитни, так как данные имеют порядковый характер и выборки независимые.\n",
    "\n",
    "Сформулируем гипотезы для retention_1:\n",
    "\n",
    "    H0 - Пользователи возвращаются в игру спустя сутки одинаково и независимо от наличия ворот на уровне 30 или 40  \n",
    "    H1 - Количество возвратов в игру спустя сутки зависит от наличия ворот либо на 30 уровне, либо на 40  "
   ]
  },
  {
   "cell_type": "code",
   "execution_count": 22,
   "metadata": {},
   "outputs": [
    {
     "name": "stdout",
     "output_type": "stream",
     "text": [
      "p-value: 0.037\n",
      "Количество возвратов в игру спустя сутки зависит от наличия ворот либо на 30 уровне, либо на 40 на уровне значимости 5.00%\n",
      "Количество возвратов в игру спустя сутки больше при использовании ворот на уровне 30\n"
     ]
    }
   ],
   "source": [
    "stat, p = scipy.stats.mannwhitneyu(df_gate_30.retention_1, df_gate_40.retention_1)\n",
    "alpha = 0.05\n",
    "\n",
    "print('p-value:', round(p, 3))\n",
    "\n",
    "if p < alpha:\n",
    "    print(f'Количество возвратов в игру спустя сутки зависит от наличия ворот либо на 30 уровне, либо на 40 \\\n",
    "на уровне значимости {alpha :.2%}')\n",
    "    if df_gate_30.retention_1.mean() > df_gate_40.retention_1.mean():\n",
    "        print(f'Количество возвратов в игру спустя сутки больше при использовании ворот на уровне 30')\n",
    "    else:\n",
    "        print(f'Количество возвратов в игру спустя сутки больше при использовании ворот на уровне 40')     \n",
    "else:\n",
    "    print(f'Пользователи возвращаются в игру спустя сутки одинаково и независимо от наличия ворот на уровне 30 или 40 \\\n",
    "на уровне значимости {alpha :.2%}')"
   ]
  },
  {
   "cell_type": "markdown",
   "metadata": {},
   "source": [
    "Сформулируем гипотезы для retention_7:\n",
    "\n",
    "    H0 - Пользователи возвращаются в игру спустя 7 дней одинаково и независимо от наличия ворот на уровне 30 или 40  \n",
    "    H1 - Количество возвратов в игру спустя 7 дней зависит от наличия ворот либо на 30 уровне, либо на 40"
   ]
  },
  {
   "cell_type": "code",
   "execution_count": 23,
   "metadata": {},
   "outputs": [
    {
     "name": "stdout",
     "output_type": "stream",
     "text": [
      "p-value: 0.001\n",
      "Количество возвратов в игру спустя 7 дней зависит от наличия ворот либо на 30 уровне, либо на 40 на уровне значимости 5.00%\n",
      "Количество возвратов в игру спустя 7 дней больше при использовании ворот на уровне 30\n"
     ]
    }
   ],
   "source": [
    "stat, p = scipy.stats.mannwhitneyu(df_gate_30.retention_7, df_gate_40.retention_7)\n",
    "alpha = 0.05\n",
    "\n",
    "print('p-value:', round(p, 3))\n",
    "\n",
    "if p < alpha:\n",
    "    print(f'Количество возвратов в игру спустя 7 дней зависит от наличия ворот либо на 30 уровне, либо на 40 \\\n",
    "на уровне значимости {alpha :.2%}')\n",
    "    if df_gate_30.retention_7.mean() > df_gate_40.retention_7.mean():\n",
    "        print(f'Количество возвратов в игру спустя 7 дней больше при использовании ворот на уровне 30')\n",
    "    else:\n",
    "        print(f'Количество возвратов в игру спустя 7 дней больше при использовании ворот на уровне 40')     \n",
    "else:\n",
    "    print(f'Пользователи возвращаются в игру спустя 7 дней одинаково и независимо от наличия ворот на уровне 30 или 40 \\\n",
    "на уровне значимости {alpha :.2%}')"
   ]
  },
  {
   "cell_type": "markdown",
   "metadata": {},
   "source": [
    "## ВЫВОД\n",
    "\n",
    "Отличия вовлеченности пользователей в группах с воротами на 30 уровне и на 40 уровне статистически значимы на уровне 5%.\n",
    "Для бизнеса более положительное влияние на вовлеченность оказывают ворота на 30 уровне, чем на уровне 40."
   ]
  }
 ],
 "metadata": {
  "kernelspec": {
   "display_name": "Python 3",
   "language": "python",
   "name": "python3"
  },
  "language_info": {
   "codemirror_mode": {
    "name": "ipython",
    "version": 3
   },
   "file_extension": ".py",
   "mimetype": "text/x-python",
   "name": "python",
   "nbconvert_exporter": "python",
   "pygments_lexer": "ipython3",
   "version": "3.6.8"
  }
 },
 "nbformat": 4,
 "nbformat_minor": 4
}
