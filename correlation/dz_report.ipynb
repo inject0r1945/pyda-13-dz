{
 "cells": [
  {
   "cell_type": "code",
   "execution_count": 1,
   "metadata": {},
   "outputs": [],
   "source": [
    "import pandas as pd\n",
    "import numpy as np\n",
    "import matplotlib.pyplot as plt\n",
    "import seaborn as sns\n",
    "from sklearn.linear_model import LinearRegression\n",
    "from sklearn.model_selection import train_test_split\n",
    "from IPython.display import Image"
   ]
  },
  {
   "cell_type": "markdown",
   "metadata": {},
   "source": [
    "## 1 Задача - ответить на вопрос есть ли связь между жёсткостью воды и средней годовой смертностью?\n",
    "\n",
    "- Построить точечный график\n",
    "- Рассчитать коэффициенты корреляции Пирсона и Спирмена\n",
    "- Построить модель линейной регрессии\n",
    "- Рассчитать коэффициент детерминации\n",
    "- Вывести график остатков"
   ]
  },
  {
   "cell_type": "code",
   "execution_count": 2,
   "metadata": {},
   "outputs": [
    {
     "data": {
      "text/html": [
       "<div>\n",
       "<style scoped>\n",
       "    .dataframe tbody tr th:only-of-type {\n",
       "        vertical-align: middle;\n",
       "    }\n",
       "\n",
       "    .dataframe tbody tr th {\n",
       "        vertical-align: top;\n",
       "    }\n",
       "\n",
       "    .dataframe thead th {\n",
       "        text-align: right;\n",
       "    }\n",
       "</style>\n",
       "<table border=\"1\" class=\"dataframe\">\n",
       "  <thead>\n",
       "    <tr style=\"text-align: right;\">\n",
       "      <th></th>\n",
       "      <th>location</th>\n",
       "      <th>town</th>\n",
       "      <th>mortality</th>\n",
       "      <th>hardness</th>\n",
       "    </tr>\n",
       "  </thead>\n",
       "  <tbody>\n",
       "    <tr>\n",
       "      <th>1</th>\n",
       "      <td>South</td>\n",
       "      <td>Bath</td>\n",
       "      <td>1247</td>\n",
       "      <td>105</td>\n",
       "    </tr>\n",
       "    <tr>\n",
       "      <th>2</th>\n",
       "      <td>North</td>\n",
       "      <td>Birkenhead</td>\n",
       "      <td>1668</td>\n",
       "      <td>17</td>\n",
       "    </tr>\n",
       "    <tr>\n",
       "      <th>3</th>\n",
       "      <td>South</td>\n",
       "      <td>Birmingham</td>\n",
       "      <td>1466</td>\n",
       "      <td>5</td>\n",
       "    </tr>\n",
       "    <tr>\n",
       "      <th>4</th>\n",
       "      <td>North</td>\n",
       "      <td>Blackburn</td>\n",
       "      <td>1800</td>\n",
       "      <td>14</td>\n",
       "    </tr>\n",
       "    <tr>\n",
       "      <th>5</th>\n",
       "      <td>North</td>\n",
       "      <td>Blackpool</td>\n",
       "      <td>1609</td>\n",
       "      <td>18</td>\n",
       "    </tr>\n",
       "  </tbody>\n",
       "</table>\n",
       "</div>"
      ],
      "text/plain": [
       "  location        town  mortality  hardness\n",
       "1    South        Bath       1247       105\n",
       "2    North  Birkenhead       1668        17\n",
       "3    South  Birmingham       1466         5\n",
       "4    North   Blackburn       1800        14\n",
       "5    North   Blackpool       1609        18"
      ]
     },
     "execution_count": 2,
     "metadata": {},
     "output_type": "execute_result"
    }
   ],
   "source": [
    "df_water = pd.read_csv('water.csv', index_col=0)\n",
    "df_water[:5]"
   ]
  },
  {
   "cell_type": "code",
   "execution_count": 3,
   "metadata": {},
   "outputs": [
    {
     "name": "stdout",
     "output_type": "stream",
     "text": [
      "Качество воды в зависимости от уровня жесткости\n"
     ]
    },
    {
     "data": {
      "text/html": [
       "<img src=\"water-ppm.png\"/>"
      ],
      "text/plain": [
       "<IPython.core.display.Image object>"
      ]
     },
     "metadata": {},
     "output_type": "display_data"
    }
   ],
   "source": [
    "print('Качество воды в зависимости от уровня жесткости')\n",
    "display(Image(url='water-ppm.png'))"
   ]
  },
  {
   "cell_type": "markdown",
   "metadata": {},
   "source": [
    "Посмотрим зависимость уровня жесткости воды от уровня смертности с помощью точечной диаграммы"
   ]
  },
  {
   "cell_type": "code",
   "execution_count": 4,
   "metadata": {},
   "outputs": [
    {
     "data": {
      "image/png": "[encoded data removed]",
      "text/plain": [
       "<Figure size 432x288 with 1 Axes>"
      ]
     },
     "metadata": {
      "needs_background": "light"
     },
     "output_type": "display_data"
    }
   ],
   "source": [
    "sns.scatterplot(data=df_water, x='hardness', y='mortality')\n",
    "plt.title(\"Зависимость уровня смертности от жесткости воды\")\n",
    "plt.xlabel('Уровень смертности')\n",
    "plt.ylabel('Жесткость воды')\n",
    "plt.yticks(np.linspace(0, 2000, 10))\n",
    "plt.show()"
   ]
  },
  {
   "cell_type": "markdown",
   "metadata": {},
   "source": [
    "На графике можно наблюдать распределение, похожее на линейное обратное распределение.\n",
    "\n",
    "Посмотрим на базовые статистические меры и проверим имеются ли выбросы."
   ]
  },
  {
   "cell_type": "code",
   "execution_count": 5,
   "metadata": {},
   "outputs": [
    {
     "data": {
      "text/html": [
       "<div>\n",
       "<style scoped>\n",
       "    .dataframe tbody tr th:only-of-type {\n",
       "        vertical-align: middle;\n",
       "    }\n",
       "\n",
       "    .dataframe tbody tr th {\n",
       "        vertical-align: top;\n",
       "    }\n",
       "\n",
       "    .dataframe thead th {\n",
       "        text-align: right;\n",
       "    }\n",
       "</style>\n",
       "<table border=\"1\" class=\"dataframe\">\n",
       "  <thead>\n",
       "    <tr style=\"text-align: right;\">\n",
       "      <th></th>\n",
       "      <th>mortality</th>\n",
       "      <th>hardness</th>\n",
       "    </tr>\n",
       "  </thead>\n",
       "  <tbody>\n",
       "    <tr>\n",
       "      <th>count</th>\n",
       "      <td>61.000000</td>\n",
       "      <td>61.000000</td>\n",
       "    </tr>\n",
       "    <tr>\n",
       "      <th>mean</th>\n",
       "      <td>1524.147541</td>\n",
       "      <td>47.180328</td>\n",
       "    </tr>\n",
       "    <tr>\n",
       "      <th>std</th>\n",
       "      <td>187.668754</td>\n",
       "      <td>38.093966</td>\n",
       "    </tr>\n",
       "    <tr>\n",
       "      <th>min</th>\n",
       "      <td>1096.000000</td>\n",
       "      <td>5.000000</td>\n",
       "    </tr>\n",
       "    <tr>\n",
       "      <th>25%</th>\n",
       "      <td>1379.000000</td>\n",
       "      <td>14.000000</td>\n",
       "    </tr>\n",
       "    <tr>\n",
       "      <th>50%</th>\n",
       "      <td>1555.000000</td>\n",
       "      <td>39.000000</td>\n",
       "    </tr>\n",
       "    <tr>\n",
       "      <th>75%</th>\n",
       "      <td>1668.000000</td>\n",
       "      <td>75.000000</td>\n",
       "    </tr>\n",
       "    <tr>\n",
       "      <th>max</th>\n",
       "      <td>1987.000000</td>\n",
       "      <td>138.000000</td>\n",
       "    </tr>\n",
       "  </tbody>\n",
       "</table>\n",
       "</div>"
      ],
      "text/plain": [
       "         mortality    hardness\n",
       "count    61.000000   61.000000\n",
       "mean   1524.147541   47.180328\n",
       "std     187.668754   38.093966\n",
       "min    1096.000000    5.000000\n",
       "25%    1379.000000   14.000000\n",
       "50%    1555.000000   39.000000\n",
       "75%    1668.000000   75.000000\n",
       "max    1987.000000  138.000000"
      ]
     },
     "execution_count": 5,
     "metadata": {},
     "output_type": "execute_result"
    }
   ],
   "source": [
    "df_water.describe()"
   ]
  },
  {
   "cell_type": "markdown",
   "metadata": {},
   "source": [
    "Стоит отметить достаточно высокое стандартное отклонение, это значит мы имеем дело с очень разнообразным кол-вом значений. По максимальному и минимальному значению уровня жесткости можно сказать, что в целом люди в городах пьют качественную воду за исключением 25-30% людей, которые пьют воду с жесткостью менее 20-30 ppm. Считается, что дистиллированную или близкую к ней воду пить вредно, так как отсутствуют минералы, необходимые для организма человека, а так же чистая вода вымывает дополнительно и уже имеющиеся минералы из организма человека.\n",
    "\n",
    "Посмотрим гистрограммы распределения значений величин уровня смертности и жесткости воды."
   ]
  },
  {
   "cell_type": "code",
   "execution_count": 6,
   "metadata": {},
   "outputs": [
    {
     "data": {
      "image/png": "[encoded data removed]",
      "text/plain": [
       "<Figure size 432x288 with 1 Axes>"
      ]
     },
     "metadata": {
      "needs_background": "light"
     },
     "output_type": "display_data"
    }
   ],
   "source": [
    "sns.histplot(df_water.mortality)\n",
    "plt.title('Гистрогамма распределения значений уровня смертности')\n",
    "plt.xlabel('Уровень смертности')\n",
    "plt.ylabel('Кол-во значений')\n",
    "plt.show()"
   ]
  },
  {
   "cell_type": "code",
   "execution_count": 7,
   "metadata": {},
   "outputs": [
    {
     "data": {
      "image/png": "[encoded data removed]",
      "text/plain": [
       "<Figure size 432x288 with 1 Axes>"
      ]
     },
     "metadata": {
      "needs_background": "light"
     },
     "output_type": "display_data"
    }
   ],
   "source": [
    "sns.histplot(df_water.hardness)\n",
    "plt.title('Плотность распределения значений уровня жесткости воды')\n",
    "plt.xlabel('Уровень жесткости воды')\n",
    "plt.ylabel('Кол-во значений')\n",
    "plt.show()"
   ]
  },
  {
   "cell_type": "markdown",
   "metadata": {},
   "source": [
    "Как видно большинство значений уровня жесткости воды попадает в уровень до 20, это означает, что во многих городах течет вода из под крана почти на уровне дистилированной, что тоже вызывает сомнение. Предполагаем, что вода жесткости ниже 40 может наносить относительный вред человеку, особенно дистиллированная вода с ppm <=5. \n",
    "\n",
    "На нашем изображении как раз питьевая вода хорошего качества стартует примерно от 40 ppm. Также исходя из максимального размера жесткости в 138 ppm видно, что в верхней части данных у нас вода считается хорошего качества и даже не жесткой, а на уровне воды из артезианской скважины с угольной фильтрацией и по идее не должна наносить вред человеку. \n",
    "\n",
    "Также значения до 20 можно назвать выбросами, удалять из выборки их нельзя, имеет смысл рассмотреть статистические данные для этой группы отдельно. Есть подозрение, что в городах с такими значениями люди пьют воду не из водопровода. Если мы уберем этот выброс, то у нас получатся данные примерно похожие на нормальное распределение и будет примерно похоже, что в этой ситуации люди пьют воду из-под крана.\n",
    "\n",
    "Рассчитаем коэффициенты корреляции Спирсона и Спирмена. Уровени смертности и жесткости воды можно считать непрерывными величинами, поэтому метод Спирсона будет работать неплохо, но ему может помешать аномальные значения жесткости воды до 20 уровня. Но таких значений у нас почти половина в датасете, поэтому предположительно влияние будет не сильно большое. А на коэффициент корреляции Спирмана выбросы не должны сильно повлиять."
   ]
  },
  {
   "cell_type": "code",
   "execution_count": 8,
   "metadata": {},
   "outputs": [
    {
     "data": {
      "text/html": [
       "<div>\n",
       "<style scoped>\n",
       "    .dataframe tbody tr th:only-of-type {\n",
       "        vertical-align: middle;\n",
       "    }\n",
       "\n",
       "    .dataframe tbody tr th {\n",
       "        vertical-align: top;\n",
       "    }\n",
       "\n",
       "    .dataframe thead th {\n",
       "        text-align: right;\n",
       "    }\n",
       "</style>\n",
       "<table border=\"1\" class=\"dataframe\">\n",
       "  <thead>\n",
       "    <tr style=\"text-align: right;\">\n",
       "      <th></th>\n",
       "      <th>mortality</th>\n",
       "      <th>hardness</th>\n",
       "    </tr>\n",
       "  </thead>\n",
       "  <tbody>\n",
       "    <tr>\n",
       "      <th>mortality</th>\n",
       "      <td>1.000000</td>\n",
       "      <td>-0.654849</td>\n",
       "    </tr>\n",
       "    <tr>\n",
       "      <th>hardness</th>\n",
       "      <td>-0.654849</td>\n",
       "      <td>1.000000</td>\n",
       "    </tr>\n",
       "  </tbody>\n",
       "</table>\n",
       "</div>"
      ],
      "text/plain": [
       "           mortality  hardness\n",
       "mortality   1.000000 -0.654849\n",
       "hardness   -0.654849  1.000000"
      ]
     },
     "execution_count": 8,
     "metadata": {},
     "output_type": "execute_result"
    }
   ],
   "source": [
    "# Коэффициент корреляции Пирсона\n",
    "df_water[['mortality', 'hardness']].corr()"
   ]
  },
  {
   "cell_type": "code",
   "execution_count": 9,
   "metadata": {},
   "outputs": [
    {
     "data": {
      "text/html": [
       "<div>\n",
       "<style scoped>\n",
       "    .dataframe tbody tr th:only-of-type {\n",
       "        vertical-align: middle;\n",
       "    }\n",
       "\n",
       "    .dataframe tbody tr th {\n",
       "        vertical-align: top;\n",
       "    }\n",
       "\n",
       "    .dataframe thead th {\n",
       "        text-align: right;\n",
       "    }\n",
       "</style>\n",
       "<table border=\"1\" class=\"dataframe\">\n",
       "  <thead>\n",
       "    <tr style=\"text-align: right;\">\n",
       "      <th></th>\n",
       "      <th>mortality</th>\n",
       "      <th>hardness</th>\n",
       "    </tr>\n",
       "  </thead>\n",
       "  <tbody>\n",
       "    <tr>\n",
       "      <th>mortality</th>\n",
       "      <td>1.000000</td>\n",
       "      <td>-0.631665</td>\n",
       "    </tr>\n",
       "    <tr>\n",
       "      <th>hardness</th>\n",
       "      <td>-0.631665</td>\n",
       "      <td>1.000000</td>\n",
       "    </tr>\n",
       "  </tbody>\n",
       "</table>\n",
       "</div>"
      ],
      "text/plain": [
       "           mortality  hardness\n",
       "mortality   1.000000 -0.631665\n",
       "hardness   -0.631665  1.000000"
      ]
     },
     "execution_count": 9,
     "metadata": {},
     "output_type": "execute_result"
    }
   ],
   "source": [
    "# Коэффициент корреляции Спирмана\n",
    "df_water[['mortality', 'hardness']].corr(method='spearman')"
   ]
  },
  {
   "cell_type": "markdown",
   "metadata": {},
   "source": [
    "Как видно из коэффициентов зависимость смертности от уровня жесткости воды достаточная, но не сильно огромная. У нас получились отрицательные коэфициенты, значит зависимость обратная. Чем выше значение жесткости воды, тем ниже смертность. \n",
    "\n",
    "А что произойдет, если мы уберем из датасета города, в которых аномально чистая вода, и заново пересчитаем коэффициенты?"
   ]
  },
  {
   "cell_type": "code",
   "execution_count": 10,
   "metadata": {},
   "outputs": [
    {
     "data": {
      "text/plain": [
       "<matplotlib.axes._subplots.AxesSubplot at 0x26aaffdd2b0>"
      ]
     },
     "execution_count": 10,
     "metadata": {},
     "output_type": "execute_result"
    },
    {
     "data": {
      "image/png": "[encoded data removed]",
      "text/plain": [
       "<Figure size 432x288 with 1 Axes>"
      ]
     },
     "metadata": {
      "needs_background": "light"
     },
     "output_type": "display_data"
    }
   ],
   "source": [
    "sns.histplot(df_water.hardness[df_water.hardness>20])"
   ]
  },
  {
   "cell_type": "code",
   "execution_count": 11,
   "metadata": {},
   "outputs": [
    {
     "data": {
      "text/html": [
       "<div>\n",
       "<style scoped>\n",
       "    .dataframe tbody tr th:only-of-type {\n",
       "        vertical-align: middle;\n",
       "    }\n",
       "\n",
       "    .dataframe tbody tr th {\n",
       "        vertical-align: top;\n",
       "    }\n",
       "\n",
       "    .dataframe thead th {\n",
       "        text-align: right;\n",
       "    }\n",
       "</style>\n",
       "<table border=\"1\" class=\"dataframe\">\n",
       "  <thead>\n",
       "    <tr style=\"text-align: right;\">\n",
       "      <th></th>\n",
       "      <th>mortality</th>\n",
       "      <th>hardness</th>\n",
       "    </tr>\n",
       "  </thead>\n",
       "  <tbody>\n",
       "    <tr>\n",
       "      <th>mortality</th>\n",
       "      <td>1.000000</td>\n",
       "      <td>-0.495797</td>\n",
       "    </tr>\n",
       "    <tr>\n",
       "      <th>hardness</th>\n",
       "      <td>-0.495797</td>\n",
       "      <td>1.000000</td>\n",
       "    </tr>\n",
       "  </tbody>\n",
       "</table>\n",
       "</div>"
      ],
      "text/plain": [
       "           mortality  hardness\n",
       "mortality   1.000000 -0.495797\n",
       "hardness   -0.495797  1.000000"
      ]
     },
     "execution_count": 11,
     "metadata": {},
     "output_type": "execute_result"
    }
   ],
   "source": [
    "# Коэффициент корреляции Пирсона\n",
    "df_water[df_water.hardness>20][['mortality', 'hardness']].corr()"
   ]
  },
  {
   "cell_type": "code",
   "execution_count": 12,
   "metadata": {},
   "outputs": [
    {
     "data": {
      "text/html": [
       "<div>\n",
       "<style scoped>\n",
       "    .dataframe tbody tr th:only-of-type {\n",
       "        vertical-align: middle;\n",
       "    }\n",
       "\n",
       "    .dataframe tbody tr th {\n",
       "        vertical-align: top;\n",
       "    }\n",
       "\n",
       "    .dataframe thead th {\n",
       "        text-align: right;\n",
       "    }\n",
       "</style>\n",
       "<table border=\"1\" class=\"dataframe\">\n",
       "  <thead>\n",
       "    <tr style=\"text-align: right;\">\n",
       "      <th></th>\n",
       "      <th>mortality</th>\n",
       "      <th>hardness</th>\n",
       "    </tr>\n",
       "  </thead>\n",
       "  <tbody>\n",
       "    <tr>\n",
       "      <th>mortality</th>\n",
       "      <td>1.000000</td>\n",
       "      <td>-0.499388</td>\n",
       "    </tr>\n",
       "    <tr>\n",
       "      <th>hardness</th>\n",
       "      <td>-0.499388</td>\n",
       "      <td>1.000000</td>\n",
       "    </tr>\n",
       "  </tbody>\n",
       "</table>\n",
       "</div>"
      ],
      "text/plain": [
       "           mortality  hardness\n",
       "mortality   1.000000 -0.499388\n",
       "hardness   -0.499388  1.000000"
      ]
     },
     "execution_count": 12,
     "metadata": {},
     "output_type": "execute_result"
    }
   ],
   "source": [
    "# Коэффициент корреляции Спирмана\n",
    "df_water[df_water.hardness>20][['mortality', 'hardness']].corr(method='spearman')"
   ]
  },
  {
   "cell_type": "markdown",
   "metadata": {},
   "source": [
    "Как видим после удаления аномальных значений жесткости воды у нас произошло снижение корреляционной зависимости.\n",
    "\n",
    "Посмотрим как изменится точечная диаграмма после удаления значений жесткости воды >20:"
   ]
  },
  {
   "cell_type": "code",
   "execution_count": 13,
   "metadata": {},
   "outputs": [
    {
     "data": {
      "image/png": "[encoded data removed]",
      "text/plain": [
       "<Figure size 432x288 with 1 Axes>"
      ]
     },
     "metadata": {
      "needs_background": "light"
     },
     "output_type": "display_data"
    }
   ],
   "source": [
    "sns.scatterplot(data=df_water[df_water.hardness>20], x='hardness', y='mortality')\n",
    "plt.title(\"Зависимость уровня смертности от жесткости воды\")\n",
    "plt.xlabel('Уровень смертности')\n",
    "plt.ylabel('Жесткость воды')\n",
    "plt.yticks(np.linspace(0, 2000, 10))\n",
    "plt.show()"
   ]
  },
  {
   "cell_type": "markdown",
   "metadata": {},
   "source": [
    "Как видно график уже выглядит так, как будто в данных можно првоести прямую линию с постоянным значением y, а это уже говорит о том, что уровень смертности мало зависит от жесткости воды в случае значений жесткости от 20 до 138.\n",
    "\n",
    "Построим линейную регресионную модель на основе полного датасета."
   ]
  },
  {
   "cell_type": "code",
   "execution_count": 14,
   "metadata": {},
   "outputs": [
    {
     "name": "stdout",
     "output_type": "stream",
     "text": [
      "Коэффициент а: -3.457219507521319\n",
      "Коэффициент b: 1694.3947494490756\n",
      "Значения предсказаний уровня смертности:\n",
      "[1632.16479831 1524.99099358 1621.79313979 1459.30382294 1497.33323752\n",
      " 1217.29845741 1511.16211555 1625.2503593  1272.61396953 1566.47762767\n",
      " 1403.98831082 1604.50704225 1673.6514324  1639.07923733 1379.78777426\n",
      " 1645.99367634 1652.90811536 1645.99367634 1649.45089585 1486.961579\n",
      " 1324.47226214 1666.73699339 1666.73699339 1635.62201782 1369.41611574\n",
      " 1677.10865191 1521.53377407 1383.24499377 1601.04982275 1663.27977388\n",
      " 1448.93216442 1442.0177254  1666.73699339 1272.61396953 1448.93216442\n",
      " 1542.27709112 1424.73162786 1649.45089585 1362.50167673 1642.53645684\n",
      " 1649.45089585 1677.10865191]\n",
      "Коэффициент детерминации:  0.389489875734762\n"
     ]
    },
    {
     "data": {
      "image/png": "[encoded data removed]",
      "text/plain": [
       "<Figure size 432x288 with 1 Axes>"
      ]
     },
     "metadata": {
      "needs_background": "light"
     },
     "output_type": "display_data"
    }
   ],
   "source": [
    "model = LinearRegression()\n",
    "mortality_test, mortality_train, hardness_test, hardness_train = train_test_split(df_water['mortality'],\n",
    "                                                                                  df_water[['hardness']],\n",
    "                                                                                  test_size=0.3,\n",
    "                                                                                  random_state=42)\n",
    "model.fit(hardness_train, mortality_train)\n",
    "print('Коэффициент а:', model.coef_[0])\n",
    "print('Коэффициент b:', model.intercept_)\n",
    "mortality_predict = model.predict(hardness_test)\n",
    "print('Значения предсказаний уровня смертности:')\n",
    "print(mortality_predict)\n",
    "print('Коэффициент детерминации: ', model.score(hardness_test, mortality_test))\n",
    "\n",
    "plt.scatter(hardness_test, mortality_test)\n",
    "plt.plot(hardness_test, mortality_predict, c='r')\n",
    "plt.title('Регресионная модель предсказания уровня смертность от уровня жесткости воды')\n",
    "plt.xlabel('Уровень жесткости воды')\n",
    "plt.ylabel('Уровень смертности')\n",
    "plt.yticks(np.linspace(0, 2000, 10))\n",
    "plt.show()"
   ]
  },
  {
   "cell_type": "markdown",
   "metadata": {},
   "source": [
    "Как видим коэффициент детерминации по сравнению моделью отклонения от среднего достаточно невысока. \n",
    "\n",
    "Попробуем построить модель без аномальных значений уровня жесткости воды."
   ]
  },
  {
   "cell_type": "code",
   "execution_count": 15,
   "metadata": {},
   "outputs": [
    {
     "name": "stdout",
     "output_type": "stream",
     "text": [
      "Коэффициент а: -3.285276317094948\n",
      "Коэффициент b: 1699.2808314316894\n",
      "Значения предсказаний уровня смертности:\n",
      "[1433.17344975 1354.32681814 1630.29002877 1512.02008136 1577.7256077\n",
      " 1262.33908126 1443.0292787  1554.72867348 1443.0292787  1538.30229189\n",
      " 1423.3176208  1298.47712075 1459.45566028 1525.16118663 1367.46792341\n",
      " 1452.88510765 1630.29002877 1403.60596289 1505.44952872 1475.88204187\n",
      " 1383.89430499 1610.57837087 1571.15505506 1245.91269967 1466.02621292]\n",
      "Коэффициент детерминации:  0.15294338454788592\n"
     ]
    },
    {
     "data": {
      "image/png": "[encoded data removed]",
      "text/plain": [
       "<Figure size 432x288 with 1 Axes>"
      ]
     },
     "metadata": {
      "needs_background": "light"
     },
     "output_type": "display_data"
    }
   ],
   "source": [
    "model = LinearRegression()\n",
    "mortality_test, mortality_train, hardness_test, hardness_train = train_test_split(df_water[df_water.hardness>20]['mortality'],\n",
    "                                                                                  df_water[df_water.hardness>20][['hardness']],\n",
    "                                                                                  test_size=0.3,\n",
    "                                                                                  random_state=42)\n",
    "model.fit(hardness_train, mortality_train)\n",
    "print('Коэффициент а:', model.coef_[0])\n",
    "print('Коэффициент b:', model.intercept_)\n",
    "mortality_predict = model.predict(hardness_test)\n",
    "print('Значения предсказаний уровня смертности:')\n",
    "print(mortality_predict)\n",
    "print('Коэффициент детерминации: ', model.score(hardness_test, mortality_test))\n",
    "\n",
    "plt.scatter(hardness_test, mortality_test)\n",
    "plt.plot(hardness_test, mortality_predict, c='r')\n",
    "plt.title('Регресионная модель предсказания уровня смертность от уровня жесткости воды')\n",
    "plt.xlabel('Уровень жесткости воды')\n",
    "plt.ylabel('Уровень смертности')\n",
    "plt.yticks(np.linspace(0, 2000, 10))\n",
    "plt.show()"
   ]
  },
  {
   "cell_type": "markdown",
   "metadata": {},
   "source": [
    "Как видим коэффициент детерминации уменьшился почти в 3 раза после отсечки городов с уровнем жесткости воды <= 20 и составляет всего 0.15. \n",
    "\n",
    "Отсюда можно предположить, что если и есть зависимость уровня смертности от уровня жесткости воды, то ее надо рассматривать с иными характеристиками вместе. Например, чем питается человек в течение дня, какие витамины он пьет или не пьет, а так же уровень загрязнения воздуха и многое другое. У человека может течь из под крана очень жесткая вода, но с помощью угольного фильтра человек может ее очистить. А человек, который пьет дистиллирвоанную воду, может принимать витамины и минералы, и на него это не повлияет. Можно пить витамины и хорошую воду, но люди в целом будут быстро умирать от ядовитых выбросов завода в черте их города. Поэтому по этим данным сложно утверждать, что зависимость реально есть, но и отрицать ее невозможно."
   ]
  },
  {
   "cell_type": "markdown",
   "metadata": {},
   "source": [
    "## 2.Сохраняется ли аналогичная зависимость для северных и южных городов по отдельности?\n",
    "\n",
    "a.Разделить данные на 2 группы  \n",
    "b.Повторить аналогичные шаги из пункта 1 для каждой группы по отдельности  "
   ]
  },
  {
   "cell_type": "code",
   "execution_count": 16,
   "metadata": {},
   "outputs": [
    {
     "data": {
      "text/html": [
       "<div>\n",
       "<style scoped>\n",
       "    .dataframe tbody tr th:only-of-type {\n",
       "        vertical-align: middle;\n",
       "    }\n",
       "\n",
       "    .dataframe tbody tr th {\n",
       "        vertical-align: top;\n",
       "    }\n",
       "\n",
       "    .dataframe thead th {\n",
       "        text-align: right;\n",
       "    }\n",
       "</style>\n",
       "<table border=\"1\" class=\"dataframe\">\n",
       "  <thead>\n",
       "    <tr style=\"text-align: right;\">\n",
       "      <th></th>\n",
       "      <th>mortality</th>\n",
       "      <th>hardness</th>\n",
       "    </tr>\n",
       "  </thead>\n",
       "  <tbody>\n",
       "    <tr>\n",
       "      <th>1</th>\n",
       "      <td>1247</td>\n",
       "      <td>105</td>\n",
       "    </tr>\n",
       "    <tr>\n",
       "      <th>3</th>\n",
       "      <td>1466</td>\n",
       "      <td>5</td>\n",
       "    </tr>\n",
       "    <tr>\n",
       "      <th>8</th>\n",
       "      <td>1299</td>\n",
       "      <td>78</td>\n",
       "    </tr>\n",
       "    <tr>\n",
       "      <th>10</th>\n",
       "      <td>1359</td>\n",
       "      <td>84</td>\n",
       "    </tr>\n",
       "    <tr>\n",
       "      <th>11</th>\n",
       "      <td>1392</td>\n",
       "      <td>73</td>\n",
       "    </tr>\n",
       "  </tbody>\n",
       "</table>\n",
       "</div>"
      ],
      "text/plain": [
       "    mortality  hardness\n",
       "1        1247       105\n",
       "3        1466         5\n",
       "8        1299        78\n",
       "10       1359        84\n",
       "11       1392        73"
      ]
     },
     "execution_count": 16,
     "metadata": {},
     "output_type": "execute_result"
    }
   ],
   "source": [
    "df_water_south = df_water[df_water.location == 'South'][['mortality', 'hardness']]\n",
    "df_water_south[:5]"
   ]
  },
  {
   "cell_type": "code",
   "execution_count": 17,
   "metadata": {},
   "outputs": [
    {
     "data": {
      "text/html": [
       "<div>\n",
       "<style scoped>\n",
       "    .dataframe tbody tr th:only-of-type {\n",
       "        vertical-align: middle;\n",
       "    }\n",
       "\n",
       "    .dataframe tbody tr th {\n",
       "        vertical-align: top;\n",
       "    }\n",
       "\n",
       "    .dataframe thead th {\n",
       "        text-align: right;\n",
       "    }\n",
       "</style>\n",
       "<table border=\"1\" class=\"dataframe\">\n",
       "  <thead>\n",
       "    <tr style=\"text-align: right;\">\n",
       "      <th></th>\n",
       "      <th>mortality</th>\n",
       "      <th>hardness</th>\n",
       "    </tr>\n",
       "  </thead>\n",
       "  <tbody>\n",
       "    <tr>\n",
       "      <th>2</th>\n",
       "      <td>1668</td>\n",
       "      <td>17</td>\n",
       "    </tr>\n",
       "    <tr>\n",
       "      <th>4</th>\n",
       "      <td>1800</td>\n",
       "      <td>14</td>\n",
       "    </tr>\n",
       "    <tr>\n",
       "      <th>5</th>\n",
       "      <td>1609</td>\n",
       "      <td>18</td>\n",
       "    </tr>\n",
       "    <tr>\n",
       "      <th>6</th>\n",
       "      <td>1558</td>\n",
       "      <td>10</td>\n",
       "    </tr>\n",
       "    <tr>\n",
       "      <th>7</th>\n",
       "      <td>1807</td>\n",
       "      <td>15</td>\n",
       "    </tr>\n",
       "  </tbody>\n",
       "</table>\n",
       "</div>"
      ],
      "text/plain": [
       "   mortality  hardness\n",
       "2       1668        17\n",
       "4       1800        14\n",
       "5       1609        18\n",
       "6       1558        10\n",
       "7       1807        15"
      ]
     },
     "execution_count": 17,
     "metadata": {},
     "output_type": "execute_result"
    }
   ],
   "source": [
    "df_water_north = df_water[df_water.location == 'North'][['mortality', 'hardness']]\n",
    "df_water_north[:5]"
   ]
  },
  {
   "cell_type": "markdown",
   "metadata": {},
   "source": [
    "Посмотрим на базовые статистические метрики в разрезе южны и северных городов"
   ]
  },
  {
   "cell_type": "code",
   "execution_count": 18,
   "metadata": {},
   "outputs": [
    {
     "data": {
      "text/html": [
       "<div>\n",
       "<style scoped>\n",
       "    .dataframe tbody tr th:only-of-type {\n",
       "        vertical-align: middle;\n",
       "    }\n",
       "\n",
       "    .dataframe tbody tr th {\n",
       "        vertical-align: top;\n",
       "    }\n",
       "\n",
       "    .dataframe thead th {\n",
       "        text-align: right;\n",
       "    }\n",
       "</style>\n",
       "<table border=\"1\" class=\"dataframe\">\n",
       "  <thead>\n",
       "    <tr style=\"text-align: right;\">\n",
       "      <th></th>\n",
       "      <th>mortality</th>\n",
       "      <th>hardness</th>\n",
       "    </tr>\n",
       "  </thead>\n",
       "  <tbody>\n",
       "    <tr>\n",
       "      <th>count</th>\n",
       "      <td>26.000000</td>\n",
       "      <td>26.000000</td>\n",
       "    </tr>\n",
       "    <tr>\n",
       "      <th>mean</th>\n",
       "      <td>1376.807692</td>\n",
       "      <td>69.769231</td>\n",
       "    </tr>\n",
       "    <tr>\n",
       "      <th>std</th>\n",
       "      <td>140.269175</td>\n",
       "      <td>40.360682</td>\n",
       "    </tr>\n",
       "    <tr>\n",
       "      <th>min</th>\n",
       "      <td>1096.000000</td>\n",
       "      <td>5.000000</td>\n",
       "    </tr>\n",
       "    <tr>\n",
       "      <th>25%</th>\n",
       "      <td>1259.250000</td>\n",
       "      <td>40.250000</td>\n",
       "    </tr>\n",
       "    <tr>\n",
       "      <th>50%</th>\n",
       "      <td>1364.000000</td>\n",
       "      <td>75.500000</td>\n",
       "    </tr>\n",
       "    <tr>\n",
       "      <th>75%</th>\n",
       "      <td>1485.750000</td>\n",
       "      <td>99.750000</td>\n",
       "    </tr>\n",
       "    <tr>\n",
       "      <th>max</th>\n",
       "      <td>1627.000000</td>\n",
       "      <td>138.000000</td>\n",
       "    </tr>\n",
       "  </tbody>\n",
       "</table>\n",
       "</div>"
      ],
      "text/plain": [
       "         mortality    hardness\n",
       "count    26.000000   26.000000\n",
       "mean   1376.807692   69.769231\n",
       "std     140.269175   40.360682\n",
       "min    1096.000000    5.000000\n",
       "25%    1259.250000   40.250000\n",
       "50%    1364.000000   75.500000\n",
       "75%    1485.750000   99.750000\n",
       "max    1627.000000  138.000000"
      ]
     },
     "execution_count": 18,
     "metadata": {},
     "output_type": "execute_result"
    }
   ],
   "source": [
    "# Южные города\n",
    "df_water_south.describe()"
   ]
  },
  {
   "cell_type": "code",
   "execution_count": 19,
   "metadata": {},
   "outputs": [
    {
     "data": {
      "text/html": [
       "<div>\n",
       "<style scoped>\n",
       "    .dataframe tbody tr th:only-of-type {\n",
       "        vertical-align: middle;\n",
       "    }\n",
       "\n",
       "    .dataframe tbody tr th {\n",
       "        vertical-align: top;\n",
       "    }\n",
       "\n",
       "    .dataframe thead th {\n",
       "        text-align: right;\n",
       "    }\n",
       "</style>\n",
       "<table border=\"1\" class=\"dataframe\">\n",
       "  <thead>\n",
       "    <tr style=\"text-align: right;\">\n",
       "      <th></th>\n",
       "      <th>mortality</th>\n",
       "      <th>hardness</th>\n",
       "    </tr>\n",
       "  </thead>\n",
       "  <tbody>\n",
       "    <tr>\n",
       "      <th>count</th>\n",
       "      <td>35.000000</td>\n",
       "      <td>35.000000</td>\n",
       "    </tr>\n",
       "    <tr>\n",
       "      <th>mean</th>\n",
       "      <td>1633.600000</td>\n",
       "      <td>30.400000</td>\n",
       "    </tr>\n",
       "    <tr>\n",
       "      <th>std</th>\n",
       "      <td>136.936911</td>\n",
       "      <td>26.134494</td>\n",
       "    </tr>\n",
       "    <tr>\n",
       "      <th>min</th>\n",
       "      <td>1378.000000</td>\n",
       "      <td>6.000000</td>\n",
       "    </tr>\n",
       "    <tr>\n",
       "      <th>25%</th>\n",
       "      <td>1557.500000</td>\n",
       "      <td>12.500000</td>\n",
       "    </tr>\n",
       "    <tr>\n",
       "      <th>50%</th>\n",
       "      <td>1637.000000</td>\n",
       "      <td>17.000000</td>\n",
       "    </tr>\n",
       "    <tr>\n",
       "      <th>75%</th>\n",
       "      <td>1718.000000</td>\n",
       "      <td>44.000000</td>\n",
       "    </tr>\n",
       "    <tr>\n",
       "      <th>max</th>\n",
       "      <td>1987.000000</td>\n",
       "      <td>94.000000</td>\n",
       "    </tr>\n",
       "  </tbody>\n",
       "</table>\n",
       "</div>"
      ],
      "text/plain": [
       "         mortality   hardness\n",
       "count    35.000000  35.000000\n",
       "mean   1633.600000  30.400000\n",
       "std     136.936911  26.134494\n",
       "min    1378.000000   6.000000\n",
       "25%    1557.500000  12.500000\n",
       "50%    1637.000000  17.000000\n",
       "75%    1718.000000  44.000000\n",
       "max    1987.000000  94.000000"
      ]
     },
     "execution_count": 19,
     "metadata": {},
     "output_type": "execute_result"
    }
   ],
   "source": [
    "# Северные города\n",
    "df_water_north.describe()"
   ]
  },
  {
   "cell_type": "markdown",
   "metadata": {},
   "source": [
    "По базовым метрикам видно, что в южных городах люди пьют более жесткую воду, но она в целом является качественной. А в серверных городах не менее 50% людей пьют воду с жесткостью не более 17 ppm, назвать такую воду качественной уже нельзя. Из этого можно сделать вывод, что в северных городах должен быть уровень смертности повыше, чем в южных, если вода сжесткостью менее 20 ppm действительно влияет отрицательно на организм человека."
   ]
  },
  {
   "cell_type": "code",
   "execution_count": 20,
   "metadata": {},
   "outputs": [
    {
     "data": {
      "image/png": "[encoded data removed]",
      "text/plain": [
       "<Figure size 432x288 with 1 Axes>"
      ]
     },
     "metadata": {
      "needs_background": "light"
     },
     "output_type": "display_data"
    },
    {
     "data": {
      "image/png": "[encoded data removed]",
      "text/plain": [
       "<Figure size 432x288 with 1 Axes>"
      ]
     },
     "metadata": {
      "needs_background": "light"
     },
     "output_type": "display_data"
    }
   ],
   "source": [
    "sns.scatterplot(data=df_water_south, x='hardness', y='mortality')\n",
    "plt.title(\"Зависимость уровня смертности от жесткости воды в южных городах\")\n",
    "plt.xlabel('Уровень смертности')\n",
    "plt.ylabel('Жесткость воды')\n",
    "plt.yticks(np.linspace(0, 2000, 10))\n",
    "plt.show()\n",
    "\n",
    "sns.scatterplot(data=df_water_north, x='hardness', y='mortality')\n",
    "plt.title(\"Зависимость уровня смертности от жесткости воды в северных городах\")\n",
    "plt.xlabel('Уровень смертности')\n",
    "plt.ylabel('Жесткость воды')\n",
    "plt.yticks(np.linspace(0, 2000, 10))\n",
    "plt.show()"
   ]
  },
  {
   "cell_type": "markdown",
   "metadata": {},
   "source": [
    "Как видно из точечных графиков в северных городах действительно смертность немного выше. При этом если рассматривать уровни жесткости воды ppm до 20 на обоих графиках, то по какой-то причине люди пьющие почти дистиллированную воду в южных городах имеют немного ниже смертность. Уже можно делать предположения, что на смертность могут влиять другие факторы и нельзя рассматривать только воду. Так как и там, и там есть города с никим значением ppm воды и уровень смертности в них различается.\n",
    "\n",
    "Рассмотрим гистограммы значений уровня смертности и жесткости воды в южных и северных городах."
   ]
  },
  {
   "cell_type": "code",
   "execution_count": 21,
   "metadata": {},
   "outputs": [
    {
     "data": {
      "image/png": "[encoded data removed]",
      "text/plain": [
       "<Figure size 432x288 with 1 Axes>"
      ]
     },
     "metadata": {
      "needs_background": "light"
     },
     "output_type": "display_data"
    },
    {
     "data": {
      "image/png": "[encoded data removed]",
      "text/plain": [
       "<Figure size 432x288 with 1 Axes>"
      ]
     },
     "metadata": {
      "needs_background": "light"
     },
     "output_type": "display_data"
    }
   ],
   "source": [
    "sns.histplot(df_water_south.mortality)\n",
    "plt.title('Гистрогамма распределения значений уровня смертности в южных городах')\n",
    "plt.xlabel('Уровень смертности')\n",
    "plt.ylabel('Кол-во значений')\n",
    "plt.xticks(np.linspace(1000, 2000, 10))\n",
    "plt.show()\n",
    "\n",
    "sns.histplot(df_water_north.mortality)\n",
    "plt.title('Гистрогамма распределения значений уровня смертности в северных городах')\n",
    "plt.xlabel('Уровень смертности')\n",
    "plt.ylabel('Кол-во значений')\n",
    "plt.xticks(np.linspace(1000, 2000, 10))\n",
    "plt.show()"
   ]
  },
  {
   "cell_type": "markdown",
   "metadata": {},
   "source": [
    "Как видно действительно в серверных городах уровень смертности выше, график смещен в правую часть."
   ]
  },
  {
   "cell_type": "code",
   "execution_count": 22,
   "metadata": {},
   "outputs": [
    {
     "data": {
      "image/png": "[encoded data removed]",
      "text/plain": [
       "<Figure size 432x288 with 1 Axes>"
      ]
     },
     "metadata": {
      "needs_background": "light"
     },
     "output_type": "display_data"
    },
    {
     "data": {
      "image/png": "[encoded data removed]",
      "text/plain": [
       "<Figure size 432x288 with 1 Axes>"
      ]
     },
     "metadata": {
      "needs_background": "light"
     },
     "output_type": "display_data"
    }
   ],
   "source": [
    "sns.histplot(df_water_south.hardness)\n",
    "plt.title('Гистрогамма распределения значений уровня жесткости воды в южных городах')\n",
    "plt.xlabel('Уровень жесткости воды')\n",
    "plt.ylabel('Кол-во значений')\n",
    "plt.xticks(np.linspace(0, 150, 10))\n",
    "plt.show()\n",
    "\n",
    "sns.histplot(df_water_north.hardness)\n",
    "plt.title('Гистрогамма распределения значений уровня жесткости воды в северных городах')\n",
    "plt.xlabel('Уровень жесткости воды')\n",
    "plt.ylabel('Кол-во значений')\n",
    "plt.xticks(np.linspace(0, 150, 10))\n",
    "plt.show()"
   ]
  },
  {
   "cell_type": "markdown",
   "metadata": {},
   "source": [
    "Как видно из графиков дейсвтительно в северных городах люди в большинстве своём пьют воду крайне бедную на минералы. В связи с этим сдвиг значений в гистограмме по уровню смертности у северных городов в сторону увеличения можно объяснить некачественной водой."
   ]
  },
  {
   "cell_type": "code",
   "execution_count": 23,
   "metadata": {},
   "outputs": [
    {
     "data": {
      "text/html": [
       "<div>\n",
       "<style scoped>\n",
       "    .dataframe tbody tr th:only-of-type {\n",
       "        vertical-align: middle;\n",
       "    }\n",
       "\n",
       "    .dataframe tbody tr th {\n",
       "        vertical-align: top;\n",
       "    }\n",
       "\n",
       "    .dataframe thead th {\n",
       "        text-align: right;\n",
       "    }\n",
       "</style>\n",
       "<table border=\"1\" class=\"dataframe\">\n",
       "  <thead>\n",
       "    <tr style=\"text-align: right;\">\n",
       "      <th></th>\n",
       "      <th>mortality</th>\n",
       "      <th>hardness</th>\n",
       "    </tr>\n",
       "  </thead>\n",
       "  <tbody>\n",
       "    <tr>\n",
       "      <th>mortality</th>\n",
       "      <td>1.000000</td>\n",
       "      <td>-0.602153</td>\n",
       "    </tr>\n",
       "    <tr>\n",
       "      <th>hardness</th>\n",
       "      <td>-0.602153</td>\n",
       "      <td>1.000000</td>\n",
       "    </tr>\n",
       "  </tbody>\n",
       "</table>\n",
       "</div>"
      ],
      "text/plain": [
       "           mortality  hardness\n",
       "mortality   1.000000 -0.602153\n",
       "hardness   -0.602153  1.000000"
      ]
     },
     "execution_count": 23,
     "metadata": {},
     "output_type": "execute_result"
    }
   ],
   "source": [
    "# Коэффициент корреляции Пирсона для южных городов\n",
    "df_water_south[['mortality', 'hardness']].corr()"
   ]
  },
  {
   "cell_type": "code",
   "execution_count": 24,
   "metadata": {},
   "outputs": [
    {
     "data": {
      "text/html": [
       "<div>\n",
       "<style scoped>\n",
       "    .dataframe tbody tr th:only-of-type {\n",
       "        vertical-align: middle;\n",
       "    }\n",
       "\n",
       "    .dataframe tbody tr th {\n",
       "        vertical-align: top;\n",
       "    }\n",
       "\n",
       "    .dataframe thead th {\n",
       "        text-align: right;\n",
       "    }\n",
       "</style>\n",
       "<table border=\"1\" class=\"dataframe\">\n",
       "  <thead>\n",
       "    <tr style=\"text-align: right;\">\n",
       "      <th></th>\n",
       "      <th>mortality</th>\n",
       "      <th>hardness</th>\n",
       "    </tr>\n",
       "  </thead>\n",
       "  <tbody>\n",
       "    <tr>\n",
       "      <th>mortality</th>\n",
       "      <td>1.000000</td>\n",
       "      <td>-0.595723</td>\n",
       "    </tr>\n",
       "    <tr>\n",
       "      <th>hardness</th>\n",
       "      <td>-0.595723</td>\n",
       "      <td>1.000000</td>\n",
       "    </tr>\n",
       "  </tbody>\n",
       "</table>\n",
       "</div>"
      ],
      "text/plain": [
       "           mortality  hardness\n",
       "mortality   1.000000 -0.595723\n",
       "hardness   -0.595723  1.000000"
      ]
     },
     "execution_count": 24,
     "metadata": {},
     "output_type": "execute_result"
    }
   ],
   "source": [
    "# Коэффициент корреляции Спирмана для южных городов\n",
    "df_water_south[['mortality', 'hardness']].corr(method='spearman')"
   ]
  },
  {
   "cell_type": "code",
   "execution_count": 25,
   "metadata": {},
   "outputs": [
    {
     "data": {
      "text/html": [
       "<div>\n",
       "<style scoped>\n",
       "    .dataframe tbody tr th:only-of-type {\n",
       "        vertical-align: middle;\n",
       "    }\n",
       "\n",
       "    .dataframe tbody tr th {\n",
       "        vertical-align: top;\n",
       "    }\n",
       "\n",
       "    .dataframe thead th {\n",
       "        text-align: right;\n",
       "    }\n",
       "</style>\n",
       "<table border=\"1\" class=\"dataframe\">\n",
       "  <thead>\n",
       "    <tr style=\"text-align: right;\">\n",
       "      <th></th>\n",
       "      <th>mortality</th>\n",
       "      <th>hardness</th>\n",
       "    </tr>\n",
       "  </thead>\n",
       "  <tbody>\n",
       "    <tr>\n",
       "      <th>mortality</th>\n",
       "      <td>1.000000</td>\n",
       "      <td>-0.368598</td>\n",
       "    </tr>\n",
       "    <tr>\n",
       "      <th>hardness</th>\n",
       "      <td>-0.368598</td>\n",
       "      <td>1.000000</td>\n",
       "    </tr>\n",
       "  </tbody>\n",
       "</table>\n",
       "</div>"
      ],
      "text/plain": [
       "           mortality  hardness\n",
       "mortality   1.000000 -0.368598\n",
       "hardness   -0.368598  1.000000"
      ]
     },
     "execution_count": 25,
     "metadata": {},
     "output_type": "execute_result"
    }
   ],
   "source": [
    "# Коэффициент корреляции Пирсона для северных городов\n",
    "df_water_north[['mortality', 'hardness']].corr()"
   ]
  },
  {
   "cell_type": "code",
   "execution_count": 26,
   "metadata": {},
   "outputs": [
    {
     "data": {
      "text/html": [
       "<div>\n",
       "<style scoped>\n",
       "    .dataframe tbody tr th:only-of-type {\n",
       "        vertical-align: middle;\n",
       "    }\n",
       "\n",
       "    .dataframe tbody tr th {\n",
       "        vertical-align: top;\n",
       "    }\n",
       "\n",
       "    .dataframe thead th {\n",
       "        text-align: right;\n",
       "    }\n",
       "</style>\n",
       "<table border=\"1\" class=\"dataframe\">\n",
       "  <thead>\n",
       "    <tr style=\"text-align: right;\">\n",
       "      <th></th>\n",
       "      <th>mortality</th>\n",
       "      <th>hardness</th>\n",
       "    </tr>\n",
       "  </thead>\n",
       "  <tbody>\n",
       "    <tr>\n",
       "      <th>mortality</th>\n",
       "      <td>1.000000</td>\n",
       "      <td>-0.404208</td>\n",
       "    </tr>\n",
       "    <tr>\n",
       "      <th>hardness</th>\n",
       "      <td>-0.404208</td>\n",
       "      <td>1.000000</td>\n",
       "    </tr>\n",
       "  </tbody>\n",
       "</table>\n",
       "</div>"
      ],
      "text/plain": [
       "           mortality  hardness\n",
       "mortality   1.000000 -0.404208\n",
       "hardness   -0.404208  1.000000"
      ]
     },
     "execution_count": 26,
     "metadata": {},
     "output_type": "execute_result"
    }
   ],
   "source": [
    "# Коэффициент корреляции Спирмана для северных городов\n",
    "df_water_north[['mortality', 'hardness']].corr(method='spearman')"
   ]
  },
  {
   "cell_type": "markdown",
   "metadata": {},
   "source": [
    "Ранее мы получали значения коэфициентов около 0.49. Сейчас видно, что коэфициенты для южных городов  подросли на 0.1, а для северных городов наоборот упали примерно на 0.1. В связи с этим можно предположить, что оценивать данные смертности только по жесткости воды - сомнительная затея. Вроде бы у северных городов явно смертность повыше, пьют они менее качестенную воду, но коэффициент коррелиции заметно снизился."
   ]
  },
  {
   "cell_type": "code",
   "execution_count": 27,
   "metadata": {},
   "outputs": [
    {
     "name": "stdout",
     "output_type": "stream",
     "text": [
      "Коэффициент а: -0.5392432068268586\n",
      "Коэффициент b: 1403.834970806198\n",
      "Значения предсказаний уровня смертности:\n",
      "[1375.25508084 1392.51086346 1361.77400067 1396.28556591 1346.13594768\n",
      " 1358.53854143 1364.47021671 1396.82480912 1355.30308219 1371.4803784\n",
      " 1349.37140692 1360.15627105 1376.87281046 1352.06762295 1329.41940826\n",
      " 1332.1156243  1367.16643274 1361.77400067]\n",
      "Коэффициент детерминации:  0.1703346332829898\n"
     ]
    },
    {
     "data": {
      "image/png": "[encoded data removed]",
      "text/plain": [
       "<Figure size 432x288 with 1 Axes>"
      ]
     },
     "metadata": {
      "needs_background": "light"
     },
     "output_type": "display_data"
    }
   ],
   "source": [
    "model = LinearRegression()\n",
    "mortality_test, mortality_train, hardness_test, hardness_train = train_test_split(df_water_south['mortality'],\n",
    "                                                                                  df_water_south[['hardness']],\n",
    "                                                                                  test_size=0.3,\n",
    "                                                                                  random_state=42)\n",
    "model.fit(hardness_train, mortality_train)\n",
    "print('Коэффициент а:', model.coef_[0])\n",
    "print('Коэффициент b:', model.intercept_)\n",
    "mortality_predict = model.predict(hardness_test)\n",
    "print('Значения предсказаний уровня смертности:')\n",
    "print(mortality_predict)\n",
    "print('Коэффициент детерминации: ', model.score(hardness_test, mortality_test))\n",
    "\n",
    "plt.scatter(hardness_test, mortality_test)\n",
    "plt.plot(hardness_test, mortality_predict, c='r')\n",
    "plt.title('Регресионная модель предсказания уровня смертность от уровня жесткости воды в южных городах')\n",
    "plt.xlabel('Уровень жесткости воды')\n",
    "plt.ylabel('Уровень смертности')\n",
    "plt.yticks(np.linspace(0, 2000, 10))\n",
    "plt.show()"
   ]
  },
  {
   "cell_type": "code",
   "execution_count": 28,
   "metadata": {},
   "outputs": [
    {
     "name": "stdout",
     "output_type": "stream",
     "text": [
      "Коэффициент а: -1.4700145863721603\n",
      "Коэффициент b: 1693.4030839758284\n",
      "Значения предсказаний уровня смертности:\n",
      "[1664.00279225 1668.41283601 1671.35286518 1681.64296728 1672.82287977\n",
      " 1678.70293811 1555.22171286 1672.82287977 1666.94282142 1589.03204834\n",
      " 1678.70293811 1674.29289435 1674.29289435 1609.61225255 1628.72244218\n",
      " 1684.58299646 1655.18270473 1621.37236924 1675.76290894 1653.71269014\n",
      " 1589.03204834 1664.00279225 1559.63175662 1583.15199   ]\n",
      "Коэффициент детерминации:  0.14900378756159305\n"
     ]
    },
    {
     "data": {
      "image/png": "[encoded data removed]",
      "text/plain": [
       "<Figure size 432x288 with 1 Axes>"
      ]
     },
     "metadata": {
      "needs_background": "light"
     },
     "output_type": "display_data"
    }
   ],
   "source": [
    "model = LinearRegression()\n",
    "mortality_test, mortality_train, hardness_test, hardness_train = train_test_split(df_water_north['mortality'],\n",
    "                                                                                  df_water_north[['hardness']],\n",
    "                                                                                  test_size=0.3,\n",
    "                                                                                  random_state=42)\n",
    "model.fit(hardness_train, mortality_train)\n",
    "print('Коэффициент а:', model.coef_[0])\n",
    "print('Коэффициент b:', model.intercept_)\n",
    "mortality_predict = model.predict(hardness_test)\n",
    "print('Значения предсказаний уровня смертности:')\n",
    "print(mortality_predict)\n",
    "print('Коэффициент детерминации: ', model.score(hardness_test, mortality_test))\n",
    "\n",
    "plt.scatter(hardness_test, mortality_test)\n",
    "plt.plot(hardness_test, mortality_predict, c='r')\n",
    "plt.title('Регресионная модель предсказания уровня смертность от уровня жесткости воды в северных городах')\n",
    "plt.xlabel('Уровень жесткости воды')\n",
    "plt.ylabel('Уровень смертности')\n",
    "plt.yticks(np.linspace(0, 2000, 10))\n",
    "plt.show()"
   ]
  },
  {
   "cell_type": "markdown",
   "metadata": {},
   "source": [
    "Как видно из полученных моделей коэфициент детерминации крайне низок и даже хуже, чем в полной выборке без деления. А линейная регрессия больше напоминает прямую с постоянным значением уровня смертности.\n",
    "\n",
    "# ВЫВОДЫ\n",
    "\n",
    "1. Нельзя однозначно сказать повлиял ли уровнь жесткости воды на уровень смертности в городах, жесткость воды следует рассматривать с другими признаками, влияющими на качество жизни человека.\n",
    "\n",
    "2. Повышенная смертность в северных городах по сравнению с южными может объясняться другими причинами, например, выбросами с заводов.\n",
    "\n",
    "3. Нельзя утверждать от отсутствии влияния жесткости воды на уровень смертности."
   ]
  }
 ],
 "metadata": {
  "kernelspec": {
   "display_name": "Python 3",
   "language": "python",
   "name": "python3"
  },
  "language_info": {
   "codemirror_mode": {
    "name": "ipython",
    "version": 3
   },
   "file_extension": ".py",
   "mimetype": "text/x-python",
   "name": "python",
   "nbconvert_exporter": "python",
   "pygments_lexer": "ipython3",
   "version": "3.6.8"
  }
 },
 "nbformat": 4,
 "nbformat_minor": 4
}
